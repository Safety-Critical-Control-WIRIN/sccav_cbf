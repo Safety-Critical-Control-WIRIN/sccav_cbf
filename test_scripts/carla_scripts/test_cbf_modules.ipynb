{
 "cells": [
  {
   "cell_type": "code",
   "execution_count": 59,
   "id": "728e5ba3-598e-41b0-ba9a-1dc024d4e00f",
   "metadata": {},
   "outputs": [],
   "source": [
    "import numpy as np\n",
    "import warnings\n",
    "import inspect\n",
    "from euclid import *\n",
    "# import carla\n",
    "\n",
    "from collections.abc import MutableMapping\n",
    "from cvxopt import matrix\n",
    "import sys\n",
    "import os\n",
    "from bezier_path import Bezier\n",
    "\n",
    "sys.path.append(os.path.dirname(os.path.abspath('')) +\n",
    "                \"../\")\n",
    "\n",
    "try:\n",
    "    from cbf.cbf import KBM_VC_CBF2D\n",
    "    from cbf.geometry import Rotation, Transform\n",
    "    from cbf.obstacles import *\n",
    "except:\n",
    "    raise\n"
   ]
  },
  {
   "cell_type": "code",
   "execution_count": 30,
   "id": "391522e1-24af-4c72-99c3-9ec93e25328d",
   "metadata": {},
   "outputs": [],
   "source": [
    "class BBox():\n",
    "    def __init__(self, wx, wy, l, b, h, theta):\n",
    "        self.wx = wx\n",
    "        self.wy = wy\n",
    "        self.l = l\n",
    "        self.b = b\n",
    "        self.h = h\n",
    "        self.theta = theta\n",
    "\n",
    "class Ellipse2D():\n",
    "    def __init__(self, a, b, buffer, cx=0, cy=0, theta=0):\n",
    "        self.cx = cx\n",
    "        self.cy = cy\n",
    "        self.theta = theta\n",
    "        self.a = a\n",
    "        self.b = b\n",
    "        self.buffer = buffer\n",
    "        self.BUFFER_FLAG = False\n",
    "    \n",
    "    def applyBuffer(self):\n",
    "        if not self.BUFFER_FLAG:\n",
    "            self.a = self.a + self.buffer\n",
    "            self.b = self.b + self.buffer\n",
    "            self.BUFFER_FLAG = True\n",
    "        else:\n",
    "            print(\"Warning: Buffer already applied. Call Ignored.\")\n",
    "        \n",
    "    def removeBuffer(self):\n",
    "        if self.BUFFER_FLAG:\n",
    "            self.a = self.a - self.buffer\n",
    "            self.b = self.b - self.buffer\n",
    "            self.BUFFER_FLAG = False\n",
    "        else:\n",
    "            print(\"Warning: Buffer already removed. Call Ignored.\")\n",
    "            \n",
    "    deBuff = applyBuffer\n",
    "    \n",
    "    def update(self, cx, cy, theta, a, b, buffer):\n",
    "        self.cx = cx\n",
    "        self.cy = cy\n",
    "        self.theta = theta\n",
    "        self.a = a\n",
    "        self.b = b\n",
    "        self.buffer = buffer\n",
    "    \n",
    "    @classmethod\n",
    "    def byBBox(cls, bBox, buffer):\n",
    "        try:\n",
    "            if not isinstance(bBox, BBox):\n",
    "                raise ValueError(\"Expected an object of type BBox.\")\n",
    "            a = bBox.l/2\n",
    "            b = bBox.b/2\n",
    "            buffer = buffer\n",
    "            cx = bBox.wx\n",
    "            cy = bBox.wy\n",
    "            theta = bBox.theta\n",
    "        except ValueError as e:\n",
    "            print(e)\n",
    "        return cls(a, b, buffer, cx, cy, theta)     \n",
    "    \n",
    "    \n",
    "        "
   ]
  },
  {
   "cell_type": "code",
   "execution_count": 31,
   "id": "34ab9da5-5dc5-4ab6-89e7-297072c7b841",
   "metadata": {},
   "outputs": [],
   "source": [
    "bbox = BBox(2, 2, 3, 2, 2, np.pi/4)\n",
    "ellipse1 = Ellipse2D(4, 2, 0.5, 3, 3, 0)"
   ]
  },
  {
   "cell_type": "code",
   "execution_count": 32,
   "id": "4cb23f17-64f9-4c58-9fdc-1886a0491d61",
   "metadata": {},
   "outputs": [
    {
     "name": "stdout",
     "output_type": "stream",
     "text": [
      "4.5\n"
     ]
    }
   ],
   "source": [
    "ellipse1.applyBuffer()\n",
    "print(ellipse1.a)"
   ]
  },
  {
   "cell_type": "code",
   "execution_count": 33,
   "id": "3349bc85-b8b6-4a24-8fd3-0ece2c7bd91d",
   "metadata": {},
   "outputs": [],
   "source": [
    "bbx_ellipse = Ellipse2D.byBBox(bbox, 0.5)"
   ]
  },
  {
   "cell_type": "code",
   "execution_count": 34,
   "id": "f6af0334-1638-4a8c-be8e-c9fd6909e7ae",
   "metadata": {},
   "outputs": [
    {
     "name": "stdout",
     "output_type": "stream",
     "text": [
      "2.0\n"
     ]
    }
   ],
   "source": [
    "bbx_ellipse.applyBuffer()\n",
    "print(bbx_ellipse.a)"
   ]
  },
  {
   "cell_type": "code",
   "execution_count": 35,
   "id": "704724f8-3271-4969-8e65-5c44e23d17e1",
   "metadata": {},
   "outputs": [
    {
     "name": "stdout",
     "output_type": "stream",
     "text": [
      "Expected an object of type BBox.\n"
     ]
    },
    {
     "ename": "UnboundLocalError",
     "evalue": "local variable 'a' referenced before assignment",
     "output_type": "error",
     "traceback": [
      "\u001b[0;31m---------------------------------------------------------------------------\u001b[0m",
      "\u001b[0;31mUnboundLocalError\u001b[0m                         Traceback (most recent call last)",
      "Input \u001b[0;32mIn [35]\u001b[0m, in \u001b[0;36m<cell line: 1>\u001b[0;34m()\u001b[0m\n\u001b[0;32m----> 1\u001b[0m bbx_err_ellipse \u001b[38;5;241m=\u001b[39m \u001b[43mEllipse2D\u001b[49m\u001b[38;5;241;43m.\u001b[39;49m\u001b[43mbyBBox\u001b[49m\u001b[43m(\u001b[49m\u001b[43mbbx_ellipse\u001b[49m\u001b[43m,\u001b[49m\u001b[43m \u001b[49m\u001b[38;5;241;43m0.5\u001b[39;49m\u001b[43m)\u001b[49m\n",
      "Input \u001b[0;32mIn [30]\u001b[0m, in \u001b[0;36mEllipse2D.byBBox\u001b[0;34m(cls, bBox, buffer)\u001b[0m\n\u001b[1;32m     57\u001b[0m \u001b[38;5;28;01mexcept\u001b[39;00m \u001b[38;5;167;01mValueError\u001b[39;00m \u001b[38;5;28;01mas\u001b[39;00m e:\n\u001b[1;32m     58\u001b[0m     \u001b[38;5;28mprint\u001b[39m(e)\n\u001b[0;32m---> 59\u001b[0m \u001b[38;5;28;01mreturn\u001b[39;00m \u001b[38;5;28mcls\u001b[39m(\u001b[43ma\u001b[49m, b, buffer, cx, cy, theta)\n",
      "\u001b[0;31mUnboundLocalError\u001b[0m: local variable 'a' referenced before assignment"
     ]
    }
   ],
   "source": [
    "bbx_err_ellipse = Ellipse2D.byBBox(bbx_ellipse, 0.5)"
   ]
  },
  {
   "cell_type": "code",
   "execution_count": 36,
   "id": "1be9db72-8da1-48d4-a1ca-9910ba046b1e",
   "metadata": {},
   "outputs": [],
   "source": [
    "c = \"yoman\""
   ]
  },
  {
   "cell_type": "code",
   "execution_count": 37,
   "id": "5ffdcc58-b20a-4cad-b9fc-84a5842b80e4",
   "metadata": {},
   "outputs": [
    {
     "name": "stderr",
     "output_type": "stream",
     "text": [
      "/tmp/ipykernel_13068/2574046525.py:1: UserWarning: You have been warned\n",
      "  warnings.warn(\"You have been warned\")\n"
     ]
    }
   ],
   "source": [
    "warnings.warn(\"You have been warned\")"
   ]
  },
  {
   "cell_type": "code",
   "execution_count": 38,
   "id": "c4b56984-f26e-479e-b178-dd8c4f33f637",
   "metadata": {},
   "outputs": [
    {
     "name": "stdout",
     "output_type": "stream",
     "text": [
      "Warning: Buffer already applied. Call Ignored.\n"
     ]
    }
   ],
   "source": [
    "bbx_ellipse.deBuff()"
   ]
  },
  {
   "cell_type": "code",
   "execution_count": 39,
   "id": "ec959724-a2b4-4c48-8eaa-6c15d7a7b8eb",
   "metadata": {},
   "outputs": [],
   "source": [
    "from collections.abc import MutableMapping\n",
    "\n",
    "\n",
    "class TwoWayDict(MutableMapping):\n",
    "    def __init__(self, data=()):\n",
    "        self.mapping = {}\n",
    "        self.update(data)\n",
    "    def __getitem__(self, key):\n",
    "        return self.mapping[key]\n",
    "    def __delitem__(self, key):\n",
    "        value = self[key]\n",
    "        del self.mapping[key]\n",
    "        self.pop(value, None)\n",
    "    def __setitem__(self, key, value):\n",
    "        if key in self:\n",
    "            del self[self[key]]\n",
    "        if value in self:\n",
    "            del self[value]\n",
    "        self.mapping[key] = value\n",
    "        self.mapping[value] = key\n",
    "    def __iter__(self):\n",
    "        return iter(self.mapping)\n",
    "    def __len__(self):\n",
    "        return len(self.mapping)\n",
    "    def __repr__(self):\n",
    "        return f\"{type(self).__name__}({self.mapping})\"\n"
   ]
  },
  {
   "cell_type": "code",
   "execution_count": 40,
   "id": "934b5005-a26a-4ae3-a596-3fd3954b9e49",
   "metadata": {},
   "outputs": [],
   "source": [
    "test = TwoWayDict({1:2, 3:4})"
   ]
  },
  {
   "cell_type": "code",
   "execution_count": 41,
   "id": "f837873a-18b4-43ba-9907-67207493e8a9",
   "metadata": {},
   "outputs": [
    {
     "data": {
      "text/plain": [
       "TwoWayDict({1: 2, 2: 1, 3: 4, 4: 3})"
      ]
     },
     "execution_count": 41,
     "metadata": {},
     "output_type": "execute_result"
    }
   ],
   "source": [
    "test"
   ]
  },
  {
   "cell_type": "code",
   "execution_count": 42,
   "id": "613a8744-99f6-4474-8f33-f23fca50f45d",
   "metadata": {},
   "outputs": [],
   "source": [
    "del test[2]"
   ]
  },
  {
   "cell_type": "code",
   "execution_count": 43,
   "id": "be2650d0-39fb-4702-ab0c-7e150dd7df16",
   "metadata": {},
   "outputs": [
    {
     "data": {
      "text/plain": [
       "TwoWayDict({3: 4, 4: 3})"
      ]
     },
     "execution_count": 43,
     "metadata": {},
     "output_type": "execute_result"
    }
   ],
   "source": [
    "test"
   ]
  },
  {
   "cell_type": "code",
   "execution_count": 44,
   "id": "f160441d-56be-4e46-bc87-8b6a7ddb179f",
   "metadata": {},
   "outputs": [
    {
     "ename": "AttributeError",
     "evalue": "'TwoWayDict' object has no attribute 'super'",
     "output_type": "error",
     "traceback": [
      "\u001b[0;31m---------------------------------------------------------------------------\u001b[0m",
      "\u001b[0;31mAttributeError\u001b[0m                            Traceback (most recent call last)",
      "Input \u001b[0;32mIn [44]\u001b[0m, in \u001b[0;36m<cell line: 1>\u001b[0;34m()\u001b[0m\n\u001b[0;32m----> 1\u001b[0m \u001b[38;5;28mtype\u001b[39m(\u001b[43mtest\u001b[49m\u001b[38;5;241;43m.\u001b[39;49m\u001b[43msuper\u001b[49m())\n",
      "\u001b[0;31mAttributeError\u001b[0m: 'TwoWayDict' object has no attribute 'super'"
     ]
    }
   ],
   "source": [
    "type(test.super())"
   ]
  },
  {
   "cell_type": "code",
   "execution_count": 45,
   "id": "a101b6ab-8fe2-4a98-9fe8-28d1689ff8d5",
   "metadata": {},
   "outputs": [
    {
     "data": {
      "text/plain": [
       "(__main__.TwoWayDict,\n",
       " collections.abc.MutableMapping,\n",
       " collections.abc.Mapping,\n",
       " collections.abc.Collection,\n",
       " collections.abc.Sized,\n",
       " collections.abc.Iterable,\n",
       " collections.abc.Container,\n",
       " object)"
      ]
     },
     "execution_count": 45,
     "metadata": {},
     "output_type": "execute_result"
    }
   ],
   "source": [
    "test.__class__.__mro__"
   ]
  },
  {
   "cell_type": "code",
   "execution_count": 46,
   "id": "f02ec2a0-acff-44f1-9612-935e2e0561a3",
   "metadata": {},
   "outputs": [],
   "source": [
    "#!/bin/python3\n",
    "\"\"\"\n",
    "\n",
    "The Obstacle classes containing the neccessary gradients and hessian functions for\n",
    "seamless integration with optimal solvers, includes several utility objects like \n",
    "the obstacle list for use in real time simulation.\n",
    "\n",
    "author: Neelaksh Singh\n",
    "\n",
    "\"\"\"\n",
    "\n",
    "# Identity Objects\n",
    "DICT_EMPTY_UPDATE = ()\n",
    "\n",
    "# Object Selectors for utility\n",
    "ELLIPSE2D = 0\n",
    "\n",
    "class Obstacle2DBase():\n",
    "    \"\"\"\n",
    "    The base class each 2D obstacle class will inherit from. Created to enforce specific\n",
    "    validation checks in the obstacle list objects and creating the neccessary interface\n",
    "    for all 2D obstacle CBF classes.\n",
    "    \"\"\"\n",
    "    def __init__(self):\n",
    "        pass\n",
    "\n",
    "    def evaluate(self, p):\n",
    "        if not isinstance(p, Vector2):\n",
    "            raise ValueError(\"Expected an object of type euclid.Vector2 for arg p, but got \" + type(p).__name__ + \".\")\n",
    "\n",
    "    def gradient(self, p):\n",
    "        if not isinstance(p, Vector2):\n",
    "            raise ValueError(\"Expected an object of type euclid.Vector2 for arg p, but got \" + type(p).__name__ + \".\")\n",
    "        return matrix(0.0, (3,1))\n",
    "\n",
    "    def f(self, p):\n",
    "        if not isinstance(p, Vector2):\n",
    "            raise ValueError(\"Expected an object of type euclid.Vector2 for arg p, but got \" + type(p).__name__ + \".\")\n",
    "        return 0\n",
    "    \n",
    "    def dx(self, p):\n",
    "        if not isinstance(p, Vector2):\n",
    "            raise ValueError(\"Expected an object of type euclid.Vector2 for arg p, but got \" + type(p).__name__ + \".\")\n",
    "        return 0\n",
    "    \n",
    "    def dy(self, p):\n",
    "        if not isinstance(p, Vector2):\n",
    "            raise ValueError(\"Expected an object of type euclid.Vector2 for arg p, but got \" + type(p).__name__ + \".\")\n",
    "        return 0\n",
    "\n",
    "    def dtheta(self, p):\n",
    "        if not isinstance(p, Vector2):\n",
    "            raise ValueError(\"Expected an object of type euclid.Vector2 for arg p, but got \" + type(p).__name__ + \".\")\n",
    "        return 0\n",
    "\n",
    "    def update(self):\n",
    "        pass\n",
    "\n",
    "    def updateCoords(self, xy):\n",
    "        if not isinstance(xy, Vector2):\n",
    "            raise ValueError(\"Expected an object of type euclid.Vector2 for arg p, but got \" + type(xy).__name__ + \".\")\n",
    "        pass\n",
    "\n",
    "    def updateOrientation(self):\n",
    "        pass\n",
    "\n",
    "class Ellipse2D(Obstacle2DBase):\n",
    "    def __init__(self, a, b, center = Vector2(0, 0), theta=0, buffer=0):\n",
    "        \"\"\"\n",
    "        Generates the 2D Ellipse obstacle representation for use in control barrier functions.\n",
    "        Exposes the required functionality for direct usage in CBF as a barrier constraint.\n",
    "\n",
    "        \"\"\"\n",
    "        if not isinstance(center, Vector2):\n",
    "            raise ValueError(\"Expected an object of type euclid.Vector2 for arg center, but got \" + type(center).__name__ + \".\")\n",
    "        self.center = center\n",
    "        self.theta = theta\n",
    "        self.a = a + buffer\n",
    "        self.b = b + buffer\n",
    "        self.buffer = buffer\n",
    "        self.BUFFER_FLAG = True\n",
    "    \n",
    "    def applyBuffer(self):\n",
    "        if not self.BUFFER_FLAG:\n",
    "            self.a = self.a + self.buffer\n",
    "            self.b = self.b + self.buffer\n",
    "            self.BUFFER_FLAG = True\n",
    "        else:\n",
    "            warnings.warn(\"Warning: Buffer already applied. Call Ignored.\")\n",
    "        \n",
    "    def removeBuffer(self):\n",
    "        if self.BUFFER_FLAG:\n",
    "            self.a = self.a - self.buffer\n",
    "            self.b = self.b - self.buffer\n",
    "            self.BUFFER_FLAG = False\n",
    "        else:\n",
    "            warnings.warn(\"Warning: Buffer already removed. Call Ignored.\")\n",
    "    \n",
    "    def evaluate(self, p):\n",
    "        \"\"\"\n",
    "        Evaluate the value of the ellipse at a given point.\n",
    "        \"\"\"\n",
    "        super().evaluate(p)\n",
    "        dx = p.x - self.center.x\n",
    "        dy = p.y - self.center.y\n",
    "        ct = np.cos(self.theta)\n",
    "        st = np.sin(self.theta)\n",
    "\n",
    "        eval = ( ( dx * ct + dy * st )/self.a )**2 + ( ( -dx * st + dy * ct )/self.b )**2 - 1\n",
    "        return eval\n",
    "\n",
    "    def gradient(self, p):\n",
    "        super().gradient(p)\n",
    "        return matrix([self.dx(p), self.dy(p), self.dtheta(p)])\n",
    "\n",
    "    # f = evaluate\n",
    "        \n",
    "    def f(self, p):\n",
    "        \"\"\"\n",
    "        Alias of the evaluate function, semantically significant for cvxopt.\n",
    "        \"\"\"\n",
    "        return self.evaluate(p)\n",
    "    \n",
    "    def dx(self, p):\n",
    "        super().dx(p)\n",
    "        xd = p.x - self.center.x\n",
    "        yd = p.y - self.center.y\n",
    "        ct = np.cos(self.theta)\n",
    "        st = np.sin(self.theta)\n",
    "\n",
    "        dx_ = (2 * ct/(self.a**2)) * ( xd * ct + yd * st ) + (-2 * st/(self.b**2)) * ( -xd * st + yd * ct )\n",
    "        return dx_\n",
    "    \n",
    "    def dy(self, p):\n",
    "        super().dy(p)\n",
    "        xd = p.x - self.center.x\n",
    "        yd = p.y - self.center.y\n",
    "        ct = np.cos(self.theta)\n",
    "        st = np.sin(self.theta)\n",
    "\n",
    "        dy_ = (2 * st/(self.a**2)) * ( xd * ct + yd * st ) + (2 * ct/(self.b**2)) * ( -xd * st + yd * ct )\n",
    "        return dy_\n",
    "    \n",
    "    def update(self, a=None, b=None, center=None, theta=None, buffer=None):\n",
    "        if a is not None:\n",
    "            self.a = a\n",
    "        if b is not None:\n",
    "            self.b = b\n",
    "        if center is not None:\n",
    "            if not isinstance(center, Vector2):\n",
    "                raise ValueError(\"Expected an object of type euclid.Vector2 for arg center.\")\n",
    "            self.center = center\n",
    "        if theta is not None:\n",
    "            self.theta = theta\n",
    "        if buffer is not None:\n",
    "            if self.BUFFER_FLAG:\n",
    "                self.a = self.a - self.buffer + buffer\n",
    "                self.b = self.b - self.buffer + buffer\n",
    "                self.buffer = buffer\n",
    "            else:\n",
    "                self.buffer = buffer\n",
    "    \n",
    "    def updateCoords(self, xy):\n",
    "        super().updateCoords(xy)\n",
    "        self.center = xy\n",
    "\n",
    "    def updateOrientation(self, yaw):\n",
    "        self.theta = yaw\n",
    "\n",
    "    def updateByBoundingBox(self, BBox):\n",
    "        a = BBox.extent.x\n",
    "        b = BBox.extent.y\n",
    "        center = Vector2(BBox.location.x, BBox.location.y)\n",
    "        theta = BBox.rotation.yaw\n",
    "        self.update(a=a, b=b, center=center, theta=theta)\n",
    "\n",
    "    def dtheta(self, p):\n",
    "        \"\"\"\n",
    "        Despite being zero. This function is still created for the sake of completeness w.r.t API.\n",
    "        \"\"\"\n",
    "        return super().dtheta(p)\n",
    "\n",
    "    def __repr__(self):\n",
    "        return f\"{type(self).__name__}(a = {self.a},\\n b = {self.b},\\n center = {self.center},\\n theta = {self.theta},\\n buffer = {self.buffer}, \\n buffer applied: {self.BUFFER_FLAG} )\"\n",
    "    \n",
    "    @classmethod\n",
    "    def fromBoundingBox(cls, BBox, buffer = 0.5):\n",
    "        if not isinstance(BBox, carla.BoundingBox):\n",
    "            raise ValueError(\"Expected an object of type carla.BoundingBox as an input to fromCarlaBoundingBox() method, but got \", type(BBox).__name__)\n",
    "        \n",
    "        a = BBox.extent.x\n",
    "        b = BBox.extent.y\n",
    "        center = Vector2(BBox.location.x, BBox.location.y)\n",
    "        theta = BBox.rotation.yaw\n",
    "        return cls(a, b, center, theta, buffer)"
   ]
  },
  {
   "cell_type": "code",
   "execution_count": 68,
   "id": "77ebff51-866e-47b9-8341-f07ca0edbd12",
   "metadata": {},
   "outputs": [],
   "source": [
    "ellipse2d1 = Ellipse2D(2,3)\n",
    "ellipse2d2 = Ellipse2D(3,4)"
   ]
  },
  {
   "cell_type": "code",
   "execution_count": 69,
   "id": "71ccba31-12a9-4b52-a8af-34704c0f2383",
   "metadata": {},
   "outputs": [],
   "source": [
    "obs2dlist = ObstacleList2D({\"id1\":ellipse2d1, \"id2\":ellipse2d2})"
   ]
  },
  {
   "cell_type": "code",
   "execution_count": 70,
   "id": "ab021658-8362-4eda-a60f-d49f65de8ef3",
   "metadata": {},
   "outputs": [
    {
     "data": {
      "text/plain": [
       "ObstacleList2D({'id1': Ellipse2D(a = 2, b = 3, center = Vector2(0.00, 0.00), theta = 0, buffer = 0, buffer_applied: True )\n",
       ", 'id2': Ellipse2D(a = 3, b = 4, center = Vector2(0.00, 0.00), theta = 0, buffer = 0, buffer_applied: True )\n",
       "})"
      ]
     },
     "execution_count": 70,
     "metadata": {},
     "output_type": "execute_result"
    }
   ],
   "source": [
    "obs2dlist"
   ]
  },
  {
   "cell_type": "code",
   "execution_count": 71,
   "id": "2144c1ac-1fc7-4aee-a688-33614011524b",
   "metadata": {},
   "outputs": [],
   "source": [
    "p = Vector2(2,0)"
   ]
  },
  {
   "cell_type": "code",
   "execution_count": 72,
   "id": "5e358c39-e258-4b06-b995-36ea3731aea2",
   "metadata": {},
   "outputs": [
    {
     "name": "stdout",
     "output_type": "stream",
     "text": [
      "[ 0.00e+00]\n",
      "[-5.56e-01]\n",
      "\n"
     ]
    }
   ],
   "source": [
    "print(obs2dlist.f(p))"
   ]
  },
  {
   "cell_type": "code",
   "execution_count": 73,
   "id": "5ac0053a-4c7e-47ff-a669-b96a3b0bdea9",
   "metadata": {},
   "outputs": [],
   "source": [
    "ellipse2d3 = Ellipse2D(5,5)"
   ]
  },
  {
   "cell_type": "code",
   "execution_count": 74,
   "id": "03142038-31c0-4508-8e8b-e39abff6dbb3",
   "metadata": {},
   "outputs": [],
   "source": [
    "obs2dlist.update(id3 = ellipse2d3)"
   ]
  },
  {
   "cell_type": "code",
   "execution_count": 75,
   "id": "7db3484e-ab59-4ea9-85f0-1371383717ec",
   "metadata": {},
   "outputs": [
    {
     "data": {
      "text/plain": [
       "ObstacleList2D({'id1': Ellipse2D(a = 2, b = 3, center = Vector2(0.00, 0.00), theta = 0, buffer = 0, buffer_applied: True )\n",
       ", 'id2': Ellipse2D(a = 3, b = 4, center = Vector2(0.00, 0.00), theta = 0, buffer = 0, buffer_applied: True )\n",
       ", 'id3': Ellipse2D(a = 5, b = 5, center = Vector2(0.00, 0.00), theta = 0, buffer = 0, buffer_applied: True )\n",
       "})"
      ]
     },
     "execution_count": 75,
     "metadata": {},
     "output_type": "execute_result"
    }
   ],
   "source": [
    "obs2dlist"
   ]
  },
  {
   "cell_type": "code",
   "execution_count": 76,
   "id": "c2042f31-38f9-491a-a66f-ff3f31a337bf",
   "metadata": {},
   "outputs": [],
   "source": [
    "obs2dlist['id4'] = ellipse2d3"
   ]
  },
  {
   "cell_type": "code",
   "execution_count": 77,
   "id": "5d3c9155-1a06-43ca-b202-6204dde104de",
   "metadata": {},
   "outputs": [
    {
     "data": {
      "text/plain": [
       "ObstacleList2D({'id1': Ellipse2D(a = 2, b = 3, center = Vector2(0.00, 0.00), theta = 0, buffer = 0, buffer_applied: True )\n",
       ", 'id2': Ellipse2D(a = 3, b = 4, center = Vector2(0.00, 0.00), theta = 0, buffer = 0, buffer_applied: True )\n",
       ", 'id3': Ellipse2D(a = 5, b = 5, center = Vector2(0.00, 0.00), theta = 0, buffer = 0, buffer_applied: True )\n",
       ", 'id4': Ellipse2D(a = 5, b = 5, center = Vector2(0.00, 0.00), theta = 0, buffer = 0, buffer_applied: True )\n",
       "})"
      ]
     },
     "execution_count": 77,
     "metadata": {},
     "output_type": "execute_result"
    }
   ],
   "source": [
    "obs2dlist"
   ]
  },
  {
   "cell_type": "code",
   "execution_count": 78,
   "id": "376458a8-2416-4859-8a4e-43cc73af0865",
   "metadata": {},
   "outputs": [],
   "source": [
    "obs2dlist['id4'].update(a=5, b=6)"
   ]
  },
  {
   "cell_type": "code",
   "execution_count": 79,
   "id": "9f05c5d2-356c-4134-8a2a-47392afdd278",
   "metadata": {},
   "outputs": [
    {
     "data": {
      "text/plain": [
       "ObstacleList2D({'id1': Ellipse2D(a = 2, b = 3, center = Vector2(0.00, 0.00), theta = 0, buffer = 0, buffer_applied: True )\n",
       ", 'id2': Ellipse2D(a = 3, b = 4, center = Vector2(0.00, 0.00), theta = 0, buffer = 0, buffer_applied: True )\n",
       ", 'id3': Ellipse2D(a = 5, b = 6, center = Vector2(0.00, 0.00), theta = 0, buffer = 0, buffer_applied: True )\n",
       ", 'id4': Ellipse2D(a = 5, b = 6, center = Vector2(0.00, 0.00), theta = 0, buffer = 0, buffer_applied: True )\n",
       "})"
      ]
     },
     "execution_count": 79,
     "metadata": {},
     "output_type": "execute_result"
    }
   ],
   "source": [
    "obs2dlist"
   ]
  },
  {
   "cell_type": "code",
   "execution_count": 81,
   "id": "bc2266a3-fee0-4027-8ec4-2aa72cf816a7",
   "metadata": {},
   "outputs": [],
   "source": [
    "\"\"\"Defining the trajectory\"\"\"\n",
    "start_x = 5.3  # [m]\n",
    "start_y = 46.2  # [m]\n",
    "start_yaw = np.radians(-90.0)  # [rad]\n",
    "\n",
    "end_x = 28.7  # [m]\n",
    "end_y = 7.0  # [m]\n",
    "end_yaw = np.radians(0.0)  # [rad]\n",
    "offset = 3.0\n",
    "resolution = 100\n",
    "velocity = 5\n",
    "\n",
    "bezier = Bezier(start_x, start_y, start_yaw, end_x, end_y, end_yaw, offset, resolution=100)\n",
    "curve = bezier.get_trajectory(velocity= velocity)\n",
    "\n",
    "straight1 = []\n",
    "for t in np.linspace(66.2, 46.2, resolution):\n",
    "    straight1.append((5.3, t, -math.pi/2, velocity))\n",
    "\n",
    "straight2 = []\n",
    "for t in np.linspace(28.7, 54.8, resolution):\n",
    "    straight2.append((t, 7.0, -math.pi/2, velocity))\n",
    "\n",
    "trajectory = straight1 + curve + straight2"
   ]
  },
  {
   "cell_type": "code",
   "execution_count": 82,
   "id": "5e5f2564-6982-4128-9f0d-2556a1628d6c",
   "metadata": {},
   "outputs": [
    {
     "data": {
      "text/plain": [
       "[(5.3, 66.2, -1.5707963267948966, 5),\n",
       " (5.3, 65.9979797979798, -1.5707963267948966, 5),\n",
       " (5.3, 65.7959595959596, -1.5707963267948966, 5),\n",
       " (5.3, 65.5939393939394, -1.5707963267948966, 5),\n",
       " (5.3, 65.3919191919192, -1.5707963267948966, 5),\n",
       " (5.3, 65.18989898989899, -1.5707963267948966, 5),\n",
       " (5.3, 64.98787878787878, -1.5707963267948966, 5),\n",
       " (5.3, 64.78585858585859, -1.5707963267948966, 5),\n",
       " (5.3, 64.58383838383838, -1.5707963267948966, 5),\n",
       " (5.3, 64.38181818181819, -1.5707963267948966, 5),\n",
       " (5.3, 64.17979797979798, -1.5707963267948966, 5),\n",
       " (5.3, 63.97777777777778, -1.5707963267948966, 5),\n",
       " (5.3, 63.77575757575758, -1.5707963267948966, 5),\n",
       " (5.3, 63.57373737373737, -1.5707963267948966, 5),\n",
       " (5.3, 63.37171717171717, -1.5707963267948966, 5),\n",
       " (5.3, 63.16969696969697, -1.5707963267948966, 5),\n",
       " (5.3, 62.96767676767677, -1.5707963267948966, 5),\n",
       " (5.3, 62.76565656565657, -1.5707963267948966, 5),\n",
       " (5.3, 62.56363636363637, -1.5707963267948966, 5),\n",
       " (5.3, 62.36161616161616, -1.5707963267948966, 5),\n",
       " (5.3, 62.15959595959596, -1.5707963267948966, 5),\n",
       " (5.3, 61.95757575757576, -1.5707963267948966, 5),\n",
       " (5.3, 61.75555555555556, -1.5707963267948966, 5),\n",
       " (5.3, 61.55353535353536, -1.5707963267948966, 5),\n",
       " (5.3, 61.35151515151515, -1.5707963267948966, 5),\n",
       " (5.3, 61.14949494949495, -1.5707963267948966, 5),\n",
       " (5.3, 60.94747474747475, -1.5707963267948966, 5),\n",
       " (5.3, 60.74545454545455, -1.5707963267948966, 5),\n",
       " (5.3, 60.54343434343435, -1.5707963267948966, 5),\n",
       " (5.3, 60.34141414141415, -1.5707963267948966, 5),\n",
       " (5.3, 60.13939393939394, -1.5707963267948966, 5),\n",
       " (5.3, 59.93737373737374, -1.5707963267948966, 5),\n",
       " (5.3, 59.73535353535354, -1.5707963267948966, 5),\n",
       " (5.3, 59.53333333333334, -1.5707963267948966, 5),\n",
       " (5.3, 59.33131313131314, -1.5707963267948966, 5),\n",
       " (5.3, 59.12929292929293, -1.5707963267948966, 5),\n",
       " (5.3, 58.92727272727273, -1.5707963267948966, 5),\n",
       " (5.3, 58.72525252525253, -1.5707963267948966, 5),\n",
       " (5.3, 58.52323232323233, -1.5707963267948966, 5),\n",
       " (5.3, 58.32121212121213, -1.5707963267948966, 5),\n",
       " (5.3, 58.11919191919192, -1.5707963267948966, 5),\n",
       " (5.3, 57.91717171717172, -1.5707963267948966, 5),\n",
       " (5.3, 57.71515151515152, -1.5707963267948966, 5),\n",
       " (5.3, 57.51313131313132, -1.5707963267948966, 5),\n",
       " (5.3, 57.31111111111112, -1.5707963267948966, 5),\n",
       " (5.3, 57.10909090909091, -1.5707963267948966, 5),\n",
       " (5.3, 56.90707070707071, -1.5707963267948966, 5),\n",
       " (5.3, 56.70505050505051, -1.5707963267948966, 5),\n",
       " (5.3, 56.50303030303031, -1.5707963267948966, 5),\n",
       " (5.3, 56.30101010101011, -1.5707963267948966, 5),\n",
       " (5.3, 56.0989898989899, -1.5707963267948966, 5),\n",
       " (5.3, 55.8969696969697, -1.5707963267948966, 5),\n",
       " (5.3, 55.6949494949495, -1.5707963267948966, 5),\n",
       " (5.3, 55.4929292929293, -1.5707963267948966, 5),\n",
       " (5.3, 55.290909090909096, -1.5707963267948966, 5),\n",
       " (5.3, 55.08888888888889, -1.5707963267948966, 5),\n",
       " (5.3, 54.88686868686869, -1.5707963267948966, 5),\n",
       " (5.3, 54.68484848484849, -1.5707963267948966, 5),\n",
       " (5.3, 54.48282828282829, -1.5707963267948966, 5),\n",
       " (5.3, 54.280808080808086, -1.5707963267948966, 5),\n",
       " (5.3, 54.07878787878788, -1.5707963267948966, 5),\n",
       " (5.3, 53.87676767676768, -1.5707963267948966, 5),\n",
       " (5.3, 53.67474747474748, -1.5707963267948966, 5),\n",
       " (5.3, 53.472727272727276, -1.5707963267948966, 5),\n",
       " (5.3, 53.270707070707076, -1.5707963267948966, 5),\n",
       " (5.3, 53.06868686868687, -1.5707963267948966, 5),\n",
       " (5.3, 52.86666666666667, -1.5707963267948966, 5),\n",
       " (5.3, 52.66464646464647, -1.5707963267948966, 5),\n",
       " (5.3, 52.462626262626266, -1.5707963267948966, 5),\n",
       " (5.3, 52.260606060606065, -1.5707963267948966, 5),\n",
       " (5.3, 52.05858585858586, -1.5707963267948966, 5),\n",
       " (5.3, 51.856565656565664, -1.5707963267948966, 5),\n",
       " (5.3, 51.654545454545456, -1.5707963267948966, 5),\n",
       " (5.3, 51.452525252525255, -1.5707963267948966, 5),\n",
       " (5.3, 51.250505050505055, -1.5707963267948966, 5),\n",
       " (5.3, 51.048484848484854, -1.5707963267948966, 5),\n",
       " (5.3, 50.84646464646465, -1.5707963267948966, 5),\n",
       " (5.3, 50.644444444444446, -1.5707963267948966, 5),\n",
       " (5.3, 50.442424242424245, -1.5707963267948966, 5),\n",
       " (5.3, 50.240404040404044, -1.5707963267948966, 5),\n",
       " (5.3, 50.03838383838384, -1.5707963267948966, 5),\n",
       " (5.3, 49.83636363636364, -1.5707963267948966, 5),\n",
       " (5.3, 49.634343434343435, -1.5707963267948966, 5),\n",
       " (5.3, 49.432323232323235, -1.5707963267948966, 5),\n",
       " (5.3, 49.230303030303034, -1.5707963267948966, 5),\n",
       " (5.3, 49.028282828282826, -1.5707963267948966, 5),\n",
       " (5.3, 48.82626262626263, -1.5707963267948966, 5),\n",
       " (5.3, 48.624242424242425, -1.5707963267948966, 5),\n",
       " (5.3, 48.422222222222224, -1.5707963267948966, 5),\n",
       " (5.3, 48.220202020202024, -1.5707963267948966, 5),\n",
       " (5.3, 48.01818181818182, -1.5707963267948966, 5),\n",
       " (5.3, 47.81616161616162, -1.5707963267948966, 5),\n",
       " (5.3, 47.614141414141415, -1.5707963267948966, 5),\n",
       " (5.3, 47.412121212121214, -1.5707963267948966, 5),\n",
       " (5.3, 47.21010101010101, -1.5707963267948966, 5),\n",
       " (5.3, 47.00808080808081, -1.5707963267948966, 5),\n",
       " (5.3, 46.80606060606061, -1.5707963267948966, 5),\n",
       " (5.3, 46.604040404040404, -1.5707963267948966, 5),\n",
       " (5.3, 46.4020202020202, -1.5707963267948966, 5),\n",
       " (5.3, 46.2, -1.5707963267948966, 5),\n",
       " (5.3, 46.2, -1.5707963267948966, 5),\n",
       " (5.302503354270933, 45.73620915849825, -1.5600646188028433, 5),\n",
       " (5.310008688806484, 45.267255254206965, -1.5495807599004148, 5),\n",
       " (5.322508911190788, 44.79334078322694, -1.5393256284613188, 5),\n",
       " (5.339996929007973, 44.31466824165881, -1.5292812897249086, 5),\n",
       " (5.362465649842175, 43.83144012560334, -1.5194308900145892, 5),\n",
       " (5.389907981277523, 43.343858931161215, -1.509758560304352, 5),\n",
       " (5.4223168308981515, 42.85212715443315, -1.5002493282211893, 5),\n",
       " (5.459685106288189, 42.35644729151987, -1.4908890376540338, 5),\n",
       " (5.5020057150317685, 41.85702183852205, -1.4816642752171056, 5),\n",
       " (5.549271564713027, 41.35405329154046, -1.472562302886893, 5),\n",
       " (5.601475562916089, 40.84774414667576, -1.4635709961973764, 5),\n",
       " (5.658610617225091, 40.3382969000287, -1.4546787874377245, 5),\n",
       " (5.720669635224164, 39.82591404769996, -1.445874613350815, 5),\n",
       " (5.787645524497438, 39.31079808579025, -1.4371478668798792, 5),\n",
       " (5.859531192629047, 38.79315151040033, -1.428488352554762, 5),\n",
       " (5.936319547203121, 38.27317681763084, -1.4198862451490553, 5),\n",
       " (6.018003495803796, 37.75107650358256, -1.4113320512751493, 5),\n",
       " (6.104575946015199, 37.22705306435614, -1.4028165736163765, 5),\n",
       " (6.196029805421466, 36.701308996052354, -1.3943308775242744, 5),\n",
       " (6.2923579816067265, 36.17404679477188, -1.385866259734896, 5),\n",
       " (6.393553382155112, 35.64546895661541, -1.3774142189813487, 5),\n",
       " (6.499608914650757, 35.11577797768369, -1.368966428300639, 5),\n",
       " (6.610517486677791, 34.585176354077404, -1.3605147088516918, 5),\n",
       " (6.726272005820347, 34.053866581897296, -1.3520510050783507, 5),\n",
       " (6.846865379662555, 33.52205115724405, -1.343567361066464, 5),\n",
       " (6.9722905157885515, 32.98993257621839, -1.335055897958017, 5),\n",
       " (7.102540321782465, 32.45771333492104, -1.3265087922978969, 5),\n",
       " (7.237607705228427, 31.925595929452676, -1.3179182552004054, 5),\n",
       " (7.377485573710571, 31.39378285591404, -1.3092765122332741, 5),\n",
       " (7.5221668348130315, 30.86247661040584, -1.3005757839268053, 5),\n",
       " (7.671644396119932, 30.331879689028767, -1.2918082668250341, 5),\n",
       " (7.825911165215411, 29.802194587883548, -1.2829661150045912, 5),\n",
       " (7.984960049683601, 29.273623803070905, -1.2740414219954315, 5),\n",
       " (8.148783957108634, 28.746369830691542, -1.2650262030458543, 5),\n",
       " (8.317375795074636, 28.220635166846154, -1.2559123776824868, 5),\n",
       " (8.490728471165744, 27.69662230763547, -1.2466917525242054, 5),\n",
       " (8.66883489296609, 27.174533749160204, -1.2373560043175478, 5),\n",
       " (8.851687968059805, 26.65457198752105, -1.227896663170114, 5),\n",
       " (9.039280604031019, 26.13693951881873, -1.2183050959679826, 5),\n",
       " (9.231605708463867, 25.621838839153966, -1.2085724899734278, 5),\n",
       " (9.428656188942481, 25.10947244462746, -1.198689836610413, 5),\n",
       " (9.630424953050989, 24.600042831339913, -1.1886479154576666, 5),\n",
       " (9.836904908373526, 24.093752495392053, -1.1784372784828374, 5),\n",
       " (10.048088962494226, 23.59080393288459, -1.1680482345665282, 5),\n",
       " (10.263970022997215, 23.091399639918222, -1.1574708343821725, 5),\n",
       " (10.48454099746663, 22.595742112593665, -1.1466948557170533, 5),\n",
       " (10.709794793486601, 22.104033847011653, -1.1357097893415624, 5),\n",
       " (10.93972431864126, 21.616477339272873, -1.124504825558389, 5),\n",
       " (11.174322480514737, 21.133275085478036, -1.1130688415910803, 5),\n",
       " (11.41358218669117, 20.65462958172787, -1.1013903900026711, 5),\n",
       " (11.657496344754687, 20.180743324123075, -1.08945768837022, 5),\n",
       " (11.906057862289417, 19.711818808764367, -1.0772586104805144, 5),\n",
       " (12.159259646879494, 19.248058531752452, -1.0647806793562207, 5),\n",
       " (12.417094606109053, 18.789664989188047, -1.0520110624707664, 5),\n",
       " (12.679555647562225, 18.336840677171864, -1.0389365695644532, 5),\n",
       " (12.94663567882314, 17.88978809180461, -1.0255436535339668, 5),\n",
       " (13.218327607475928, 17.448709729187005, -1.0118184149326028, 5),\n",
       " (13.494624341104725, 17.01380808541975, -0.9977466106890716, 5),\n",
       " (13.775518787293663, 16.585285656603563, -0.9833136677283602, 5),\n",
       " (14.061003853626868, 16.163344938839156, -0.9685047022581118, 5),\n",
       " (14.351072447688482, 15.748188428227236, -0.9533045455673255, 5),\n",
       " (14.645717477062627, 15.340018620868518, -0.9376977772692705, 5),\n",
       " (14.944931849333443, 14.939038012863712, -0.9216687670051501, 5),\n",
       " (15.248708472085053, 14.545449100313537, -0.9052017257062527, 5),\n",
       " (15.557040252901597, 14.159454379318694, -0.8882807675861549, 5),\n",
       " (15.869920099367203, 13.781256345979894, -0.8708899840960115, 5),\n",
       " (16.187340919066003, 13.411057496397861, -0.853013531118766, 5),\n",
       " (16.509295619582133, 13.049060326673295, -0.8346357306946534, 5),\n",
       " (16.83577710849972, 12.695467332906913, -0.8157411885514723, 5),\n",
       " (17.1667782934029, 12.350481011199424, -0.7963149286481195, 5),\n",
       " (17.502292081875797, 12.014303857651544, -0.7763425458167275, 5),\n",
       " (17.842311381502547, 11.68713836836398, -0.7558103773940248, 5),\n",
       " (18.186829099867293, 11.369187039437444, -0.7347056944521212, 5),\n",
       " (18.535838144554152, 11.060652366972652, -0.7130169128584161, 5),\n",
       " (18.88933142314726, 10.76173684707031, -0.6907338239002526, 5),\n",
       " (19.24730184323075, 10.472642975831132, -0.6678478435908933, 5),\n",
       " (19.609742312388757, 10.193573249355833, -0.6443522790218799, 5),\n",
       " (19.97664573820541, 9.924730163745116, -0.6202426092413662, 5),\n",
       " (20.348005028264843, 9.6663162150997, -0.5955167771254045, 5),\n",
       " (20.723813090151182, 9.418533899520295, -0.5701754875873131, 5),\n",
       " (21.104062831448562, 9.181585713107609, -0.5442225062705306, 5),\n",
       " (21.488747159741123, 8.955674151962357, -0.5176649516397288, 5),\n",
       " (21.87785898261298, 8.741001712185255, -0.4905135721874374, 5),\n",
       " (22.27139120764828, 8.537770889877006, -0.4627829993897025, 5),\n",
       " (22.66933674243115, 8.346184181138327, -0.4344919661700267, 5),\n",
       " (23.071688494545718, 8.16644408206993, -0.405663480071882, 5),\n",
       " (23.478439371576123, 7.998753088772519, -0.3763249402056177, 5),\n",
       " (23.889582281106495, 7.843313697346816, -0.34650818742798206, 5),\n",
       " (24.305110130720962, 7.700328403893525, -0.31624947821522775, 5),\n",
       " (24.725015828003656, 7.5699997045133625, -0.2855893743551609, 5),\n",
       " (25.14929228053871, 7.452530095307038, -0.2545725429153992, 5),\n",
       " (25.577932395910263, 7.348122072375261, -0.22324746389455102, 5),\n",
       " (26.010929081702436, 7.256978131818747, -0.19166604641792928, 5),\n",
       " (26.44827524549937, 7.179300769738205, -0.15988315812635742, 5),\n",
       " (26.889963794885187, 7.1152924822343495, -0.12795607629928896, 5),\n",
       " (27.33598763744403, 7.065155765407889, -0.09594387298939569, 5),\n",
       " (27.78633968076003, 7.029093115359536, -0.06390674975031783, 5),\n",
       " (28.241012832417304, 7.007307028190002, -0.03190534015350869, 5),\n",
       " (28.7, 7.0, 0.0, 5),\n",
       " (28.7, 7.0, -1.5707963267948966, 5),\n",
       " (28.96363636363636, 7.0, -1.5707963267948966, 5),\n",
       " (29.227272727272727, 7.0, -1.5707963267948966, 5),\n",
       " (29.49090909090909, 7.0, -1.5707963267948966, 5),\n",
       " (29.754545454545454, 7.0, -1.5707963267948966, 5),\n",
       " (30.018181818181816, 7.0, -1.5707963267948966, 5),\n",
       " (30.28181818181818, 7.0, -1.5707963267948966, 5),\n",
       " (30.545454545454543, 7.0, -1.5707963267948966, 5),\n",
       " (30.80909090909091, 7.0, -1.5707963267948966, 5),\n",
       " (31.07272727272727, 7.0, -1.5707963267948966, 5),\n",
       " (31.336363636363636, 7.0, -1.5707963267948966, 5),\n",
       " (31.599999999999998, 7.0, -1.5707963267948966, 5),\n",
       " (31.863636363636363, 7.0, -1.5707963267948966, 5),\n",
       " (32.127272727272725, 7.0, -1.5707963267948966, 5),\n",
       " (32.39090909090909, 7.0, -1.5707963267948966, 5),\n",
       " (32.654545454545456, 7.0, -1.5707963267948966, 5),\n",
       " (32.918181818181814, 7.0, -1.5707963267948966, 5),\n",
       " (33.18181818181818, 7.0, -1.5707963267948966, 5),\n",
       " (33.445454545454545, 7.0, -1.5707963267948966, 5),\n",
       " (33.70909090909091, 7.0, -1.5707963267948966, 5),\n",
       " (33.97272727272727, 7.0, -1.5707963267948966, 5),\n",
       " (34.236363636363635, 7.0, -1.5707963267948966, 5),\n",
       " (34.5, 7.0, -1.5707963267948966, 5),\n",
       " (34.763636363636365, 7.0, -1.5707963267948966, 5),\n",
       " (35.027272727272724, 7.0, -1.5707963267948966, 5),\n",
       " (35.29090909090909, 7.0, -1.5707963267948966, 5),\n",
       " (35.554545454545455, 7.0, -1.5707963267948966, 5),\n",
       " (35.81818181818181, 7.0, -1.5707963267948966, 5),\n",
       " (36.08181818181818, 7.0, -1.5707963267948966, 5),\n",
       " (36.345454545454544, 7.0, -1.5707963267948966, 5),\n",
       " (36.60909090909091, 7.0, -1.5707963267948966, 5),\n",
       " (36.872727272727275, 7.0, -1.5707963267948966, 5),\n",
       " (37.13636363636363, 7.0, -1.5707963267948966, 5),\n",
       " (37.4, 7.0, -1.5707963267948966, 5),\n",
       " (37.663636363636364, 7.0, -1.5707963267948966, 5),\n",
       " (37.92727272727272, 7.0, -1.5707963267948966, 5),\n",
       " (38.19090909090909, 7.0, -1.5707963267948966, 5),\n",
       " (38.45454545454545, 7.0, -1.5707963267948966, 5),\n",
       " (38.71818181818182, 7.0, -1.5707963267948966, 5),\n",
       " (38.981818181818184, 7.0, -1.5707963267948966, 5),\n",
       " (39.24545454545454, 7.0, -1.5707963267948966, 5),\n",
       " (39.50909090909091, 7.0, -1.5707963267948966, 5),\n",
       " (39.77272727272727, 7.0, -1.5707963267948966, 5),\n",
       " (40.03636363636363, 7.0, -1.5707963267948966, 5),\n",
       " (40.3, 7.0, -1.5707963267948966, 5),\n",
       " (40.56363636363636, 7.0, -1.5707963267948966, 5),\n",
       " (40.82727272727273, 7.0, -1.5707963267948966, 5),\n",
       " (41.09090909090909, 7.0, -1.5707963267948966, 5),\n",
       " (41.35454545454545, 7.0, -1.5707963267948966, 5),\n",
       " (41.61818181818182, 7.0, -1.5707963267948966, 5),\n",
       " (41.881818181818176, 7.0, -1.5707963267948966, 5),\n",
       " (42.14545454545454, 7.0, -1.5707963267948966, 5),\n",
       " (42.40909090909091, 7.0, -1.5707963267948966, 5),\n",
       " (42.67272727272727, 7.0, -1.5707963267948966, 5),\n",
       " (42.93636363636364, 7.0, -1.5707963267948966, 5),\n",
       " (43.199999999999996, 7.0, -1.5707963267948966, 5),\n",
       " (43.46363636363636, 7.0, -1.5707963267948966, 5),\n",
       " (43.72727272727273, 7.0, -1.5707963267948966, 5),\n",
       " (43.990909090909085, 7.0, -1.5707963267948966, 5),\n",
       " (44.25454545454545, 7.0, -1.5707963267948966, 5),\n",
       " (44.518181818181816, 7.0, -1.5707963267948966, 5),\n",
       " (44.78181818181818, 7.0, -1.5707963267948966, 5),\n",
       " (45.04545454545455, 7.0, -1.5707963267948966, 5),\n",
       " (45.30909090909091, 7.0, -1.5707963267948966, 5),\n",
       " (45.57272727272727, 7.0, -1.5707963267948966, 5),\n",
       " (45.83636363636363, 7.0, -1.5707963267948966, 5),\n",
       " (46.099999999999994, 7.0, -1.5707963267948966, 5),\n",
       " (46.36363636363636, 7.0, -1.5707963267948966, 5),\n",
       " (46.627272727272725, 7.0, -1.5707963267948966, 5),\n",
       " (46.89090909090909, 7.0, -1.5707963267948966, 5),\n",
       " (47.154545454545456, 7.0, -1.5707963267948966, 5),\n",
       " (47.418181818181814, 7.0, -1.5707963267948966, 5),\n",
       " (47.68181818181818, 7.0, -1.5707963267948966, 5),\n",
       " (47.94545454545454, 7.0, -1.5707963267948966, 5),\n",
       " (48.209090909090904, 7.0, -1.5707963267948966, 5),\n",
       " (48.47272727272727, 7.0, -1.5707963267948966, 5),\n",
       " (48.736363636363635, 7.0, -1.5707963267948966, 5),\n",
       " (49.0, 7.0, -1.5707963267948966, 5),\n",
       " (49.263636363636365, 7.0, -1.5707963267948966, 5),\n",
       " (49.527272727272724, 7.0, -1.5707963267948966, 5),\n",
       " (49.79090909090909, 7.0, -1.5707963267948966, 5),\n",
       " (50.05454545454545, 7.0, -1.5707963267948966, 5),\n",
       " (50.31818181818181, 7.0, -1.5707963267948966, 5),\n",
       " (50.58181818181818, 7.0, -1.5707963267948966, 5),\n",
       " (50.845454545454544, 7.0, -1.5707963267948966, 5),\n",
       " (51.10909090909091, 7.0, -1.5707963267948966, 5),\n",
       " (51.372727272727275, 7.0, -1.5707963267948966, 5),\n",
       " (51.63636363636363, 7.0, -1.5707963267948966, 5),\n",
       " (51.9, 7.0, -1.5707963267948966, 5),\n",
       " (52.16363636363636, 7.0, -1.5707963267948966, 5),\n",
       " (52.42727272727272, 7.0, -1.5707963267948966, 5),\n",
       " (52.69090909090909, 7.0, -1.5707963267948966, 5),\n",
       " (52.95454545454545, 7.0, -1.5707963267948966, 5),\n",
       " (53.21818181818182, 7.0, -1.5707963267948966, 5),\n",
       " (53.481818181818184, 7.0, -1.5707963267948966, 5),\n",
       " (53.74545454545454, 7.0, -1.5707963267948966, 5),\n",
       " (54.0090909090909, 7.0, -1.5707963267948966, 5),\n",
       " (54.272727272727266, 7.0, -1.5707963267948966, 5),\n",
       " (54.53636363636363, 7.0, -1.5707963267948966, 5),\n",
       " (54.8, 7.0, -1.5707963267948966, 5)]"
      ]
     },
     "execution_count": 82,
     "metadata": {},
     "output_type": "execute_result"
    }
   ],
   "source": [
    "trajectory"
   ]
  },
  {
   "cell_type": "code",
   "execution_count": null,
   "id": "764d434d-2e6f-4bc2-9b42-67ae838e27b7",
   "metadata": {},
   "outputs": [],
   "source": []
  }
 ],
 "metadata": {
  "kernelspec": {
   "display_name": "Python 3 (ipykernel)",
   "language": "python",
   "name": "python3"
  },
  "language_info": {
   "codemirror_mode": {
    "name": "ipython",
    "version": 3
   },
   "file_extension": ".py",
   "mimetype": "text/x-python",
   "name": "python",
   "nbconvert_exporter": "python",
   "pygments_lexer": "ipython3",
   "version": "3.8.10"
  }
 },
 "nbformat": 4,
 "nbformat_minor": 5
}
