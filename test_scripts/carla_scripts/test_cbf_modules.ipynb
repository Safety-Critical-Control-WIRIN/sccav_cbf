{
 "cells": [
  {
   "cell_type": "code",
   "execution_count": 1,
   "id": "728e5ba3-598e-41b0-ba9a-1dc024d4e00f",
   "metadata": {},
   "outputs": [],
   "source": [
    "import numpy as np\n",
    "import warnings\n",
    "import inspect\n",
    "from euclid import *\n",
    "# import carla\n",
    "\n",
    "from collections.abc import MutableMapping\n",
    "from cvxopt import matrix\n",
    "import sys\n",
    "import os\n",
    "\n",
    "sys.path.append(os.path.dirname(os.path.abspath('')) +\n",
    "                \"../../obstacles\")\n",
    "\n",
    "try:\n",
    "    from obstacles import Ellipse2D, ObstacleList2D\n",
    "except:\n",
    "    raise\n"
   ]
  },
  {
   "cell_type": "code",
   "execution_count": 2,
   "id": "391522e1-24af-4c72-99c3-9ec93e25328d",
   "metadata": {},
   "outputs": [
    {
     "ename": "NameError",
     "evalue": "name 'self' is not defined",
     "output_type": "error",
     "traceback": [
      "\u001b[1;31m---------------------------------------------------------------------------\u001b[0m",
      "\u001b[1;31mNameError\u001b[0m                                 Traceback (most recent call last)",
      "\u001b[1;32m~\\AppData\\Local\\Temp/ipykernel_18580/3995387292.py\u001b[0m in \u001b[0;36m<module>\u001b[1;34m\u001b[0m\n\u001b[0;32m      8\u001b[0m         \u001b[0mself\u001b[0m\u001b[1;33m.\u001b[0m\u001b[0mtheta\u001b[0m \u001b[1;33m=\u001b[0m \u001b[0mtheta\u001b[0m\u001b[1;33m\u001b[0m\u001b[1;33m\u001b[0m\u001b[0m\n\u001b[0;32m      9\u001b[0m \u001b[1;33m\u001b[0m\u001b[0m\n\u001b[1;32m---> 10\u001b[1;33m \u001b[1;32mclass\u001b[0m \u001b[0mEllipse2D\u001b[0m\u001b[1;33m(\u001b[0m\u001b[1;33m)\u001b[0m\u001b[1;33m:\u001b[0m\u001b[1;33m\u001b[0m\u001b[1;33m\u001b[0m\u001b[0m\n\u001b[0m\u001b[0;32m     11\u001b[0m     \u001b[1;32mdef\u001b[0m \u001b[0m__init__\u001b[0m\u001b[1;33m(\u001b[0m\u001b[0mself\u001b[0m\u001b[1;33m,\u001b[0m \u001b[0ma\u001b[0m\u001b[1;33m,\u001b[0m \u001b[0mb\u001b[0m\u001b[1;33m,\u001b[0m \u001b[0mbuffer\u001b[0m\u001b[1;33m,\u001b[0m \u001b[0mcx\u001b[0m\u001b[1;33m=\u001b[0m\u001b[1;36m0\u001b[0m\u001b[1;33m,\u001b[0m \u001b[0mcy\u001b[0m\u001b[1;33m=\u001b[0m\u001b[1;36m0\u001b[0m\u001b[1;33m,\u001b[0m \u001b[0mtheta\u001b[0m\u001b[1;33m=\u001b[0m\u001b[1;36m0\u001b[0m\u001b[1;33m)\u001b[0m\u001b[1;33m:\u001b[0m\u001b[1;33m\u001b[0m\u001b[1;33m\u001b[0m\u001b[0m\n\u001b[0;32m     12\u001b[0m         \u001b[0mself\u001b[0m\u001b[1;33m.\u001b[0m\u001b[0mcx\u001b[0m \u001b[1;33m=\u001b[0m \u001b[0mcx\u001b[0m\u001b[1;33m\u001b[0m\u001b[1;33m\u001b[0m\u001b[0m\n",
      "\u001b[1;32m~\\AppData\\Local\\Temp/ipykernel_18580/3995387292.py\u001b[0m in \u001b[0;36mEllipse2D\u001b[1;34m()\u001b[0m\n\u001b[0;32m     36\u001b[0m     \u001b[0mdeBuff\u001b[0m \u001b[1;33m=\u001b[0m \u001b[0mapplyBuffer\u001b[0m\u001b[1;33m\u001b[0m\u001b[1;33m\u001b[0m\u001b[0m\n\u001b[0;32m     37\u001b[0m \u001b[1;33m\u001b[0m\u001b[0m\n\u001b[1;32m---> 38\u001b[1;33m     \u001b[1;32mdef\u001b[0m \u001b[0mupdate\u001b[0m\u001b[1;33m(\u001b[0m\u001b[0mself\u001b[0m\u001b[1;33m,\u001b[0m \u001b[0mcx\u001b[0m\u001b[1;33m=\u001b[0m\u001b[0mself\u001b[0m\u001b[1;33m.\u001b[0m\u001b[0mcx\u001b[0m\u001b[1;33m,\u001b[0m \u001b[0mcy\u001b[0m\u001b[1;33m=\u001b[0m\u001b[0mself\u001b[0m\u001b[1;33m.\u001b[0m\u001b[0mcy\u001b[0m\u001b[1;33m,\u001b[0m \u001b[0mtheta\u001b[0m \u001b[1;33m=\u001b[0m \u001b[0mself\u001b[0m\u001b[1;33m.\u001b[0m\u001b[0mtheta\u001b[0m\u001b[1;33m,\u001b[0m \u001b[0ma\u001b[0m \u001b[1;33m=\u001b[0m \u001b[0mself\u001b[0m\u001b[1;33m.\u001b[0m\u001b[0ma\u001b[0m\u001b[1;33m,\u001b[0m \u001b[0mb\u001b[0m \u001b[1;33m=\u001b[0m \u001b[0mself\u001b[0m\u001b[1;33m.\u001b[0m\u001b[0mb\u001b[0m\u001b[1;33m,\u001b[0m \u001b[0mbuffer\u001b[0m \u001b[1;33m=\u001b[0m \u001b[0mself\u001b[0m\u001b[1;33m.\u001b[0m\u001b[0mbuffer\u001b[0m\u001b[1;33m)\u001b[0m\u001b[1;33m:\u001b[0m\u001b[1;33m\u001b[0m\u001b[1;33m\u001b[0m\u001b[0m\n\u001b[0m\u001b[0;32m     39\u001b[0m         \u001b[0mself\u001b[0m\u001b[1;33m.\u001b[0m\u001b[0mcx\u001b[0m \u001b[1;33m=\u001b[0m \u001b[0mcx\u001b[0m\u001b[1;33m\u001b[0m\u001b[1;33m\u001b[0m\u001b[0m\n\u001b[0;32m     40\u001b[0m         \u001b[0mself\u001b[0m\u001b[1;33m.\u001b[0m\u001b[0mcy\u001b[0m \u001b[1;33m=\u001b[0m \u001b[0mcy\u001b[0m\u001b[1;33m\u001b[0m\u001b[1;33m\u001b[0m\u001b[0m\n",
      "\u001b[1;31mNameError\u001b[0m: name 'self' is not defined"
     ]
    }
   ],
   "source": [
    "class BBox():\n",
    "    def __init__(self, wx, wy, l, b, h, theta):\n",
    "        self.wx = wx\n",
    "        self.wy = wy\n",
    "        self.l = l\n",
    "        self.b = b\n",
    "        self.h = h\n",
    "        self.theta = theta\n",
    "\n",
    "class Ellipse2D():\n",
    "    def __init__(self, a, b, buffer, cx=0, cy=0, theta=0):\n",
    "        self.cx = cx\n",
    "        self.cy = cy\n",
    "        self.theta = theta\n",
    "        self.a = a\n",
    "        self.b = b\n",
    "        self.buffer = buffer\n",
    "        self.BUFFER_FLAG = False\n",
    "    \n",
    "    def applyBuffer(self):\n",
    "        if not self.BUFFER_FLAG:\n",
    "            self.a = self.a + self.buffer\n",
    "            self.b = self.b + self.buffer\n",
    "            self.BUFFER_FLAG = True\n",
    "        else:\n",
    "            print(\"Warning: Buffer already applied. Call Ignored.\")\n",
    "        \n",
    "    def removeBuffer(self):\n",
    "        if self.BUFFER_FLAG:\n",
    "            self.a = self.a - self.buffer\n",
    "            self.b = self.b - self.buffer\n",
    "            self.BUFFER_FLAG = False\n",
    "        else:\n",
    "            print(\"Warning: Buffer already removed. Call Ignored.\")\n",
    "            \n",
    "    deBuff = applyBuffer\n",
    "    \n",
    "    def update(self, cx, cy, theta, a, b, buffer):\n",
    "        self.cx = cx\n",
    "        self.cy = cy\n",
    "        self.theta = theta\n",
    "        self.a = a\n",
    "        self.b = b\n",
    "        self.buffer = buffer\n",
    "    \n",
    "    @classmethod\n",
    "    def byBBox(cls, bBox, buffer):\n",
    "        try:\n",
    "            if not isinstance(bBox, BBox):\n",
    "                raise ValueError(\"Expected an object of type BBox.\")\n",
    "            a = bBox.l/2\n",
    "            b = bBox.b/2\n",
    "            buffer = buffer\n",
    "            cx = bBox.wx\n",
    "            cy = bBox.wy\n",
    "            theta = bBox.theta\n",
    "        except ValueError as e:\n",
    "            print(e)\n",
    "        return cls(a, b, buffer, cx, cy, theta)     \n",
    "    \n",
    "    \n",
    "        "
   ]
  },
  {
   "cell_type": "code",
   "execution_count": 67,
   "id": "34ab9da5-5dc5-4ab6-89e7-297072c7b841",
   "metadata": {},
   "outputs": [],
   "source": [
    "bbox = BBox(2, 2, 3, 2, 2, np.pi/4)\n",
    "ellipse1 = Ellipse2D(4, 2, 0.5, 3, 3, 0)"
   ]
  },
  {
   "cell_type": "code",
   "execution_count": 68,
   "id": "4cb23f17-64f9-4c58-9fdc-1886a0491d61",
   "metadata": {},
   "outputs": [
    {
     "name": "stdout",
     "output_type": "stream",
     "text": [
      "4.5\n"
     ]
    }
   ],
   "source": [
    "ellipse1.applyBuffer()\n",
    "print(ellipse1.a)"
   ]
  },
  {
   "cell_type": "code",
   "execution_count": 69,
   "id": "3349bc85-b8b6-4a24-8fd3-0ece2c7bd91d",
   "metadata": {},
   "outputs": [],
   "source": [
    "bbx_ellipse = Ellipse2D.byBBox(bbox, 0.5)"
   ]
  },
  {
   "cell_type": "code",
   "execution_count": 70,
   "id": "f6af0334-1638-4a8c-be8e-c9fd6909e7ae",
   "metadata": {},
   "outputs": [
    {
     "name": "stdout",
     "output_type": "stream",
     "text": [
      "2.0\n"
     ]
    }
   ],
   "source": [
    "bbx_ellipse.applyBuffer()\n",
    "print(bbx_ellipse.a)"
   ]
  },
  {
   "cell_type": "code",
   "execution_count": 71,
   "id": "704724f8-3271-4969-8e65-5c44e23d17e1",
   "metadata": {},
   "outputs": [
    {
     "name": "stdout",
     "output_type": "stream",
     "text": [
      "Expected an object of type BBox.\n"
     ]
    },
    {
     "ename": "UnboundLocalError",
     "evalue": "local variable 'a' referenced before assignment",
     "output_type": "error",
     "traceback": [
      "\u001b[1;31m---------------------------------------------------------------------------\u001b[0m",
      "\u001b[1;31mUnboundLocalError\u001b[0m                         Traceback (most recent call last)",
      "\u001b[1;32m~\\AppData\\Local\\Temp/ipykernel_23376/634796883.py\u001b[0m in \u001b[0;36m<module>\u001b[1;34m\u001b[0m\n\u001b[1;32m----> 1\u001b[1;33m \u001b[0mbbx_err_ellipse\u001b[0m \u001b[1;33m=\u001b[0m \u001b[0mEllipse2D\u001b[0m\u001b[1;33m.\u001b[0m\u001b[0mbyBBox\u001b[0m\u001b[1;33m(\u001b[0m\u001b[0mbbx_ellipse\u001b[0m\u001b[1;33m,\u001b[0m \u001b[1;36m0.5\u001b[0m\u001b[1;33m)\u001b[0m\u001b[1;33m\u001b[0m\u001b[1;33m\u001b[0m\u001b[0m\n\u001b[0m",
      "\u001b[1;32m~\\AppData\\Local\\Temp/ipykernel_23376/261756815.py\u001b[0m in \u001b[0;36mbyBBox\u001b[1;34m(cls, bBox, buffer)\u001b[0m\n\u001b[0;32m     50\u001b[0m         \u001b[1;32mexcept\u001b[0m \u001b[0mValueError\u001b[0m \u001b[1;32mas\u001b[0m \u001b[0me\u001b[0m\u001b[1;33m:\u001b[0m\u001b[1;33m\u001b[0m\u001b[1;33m\u001b[0m\u001b[0m\n\u001b[0;32m     51\u001b[0m             \u001b[0mprint\u001b[0m\u001b[1;33m(\u001b[0m\u001b[0me\u001b[0m\u001b[1;33m)\u001b[0m\u001b[1;33m\u001b[0m\u001b[1;33m\u001b[0m\u001b[0m\n\u001b[1;32m---> 52\u001b[1;33m         \u001b[1;32mreturn\u001b[0m \u001b[0mcls\u001b[0m\u001b[1;33m(\u001b[0m\u001b[0ma\u001b[0m\u001b[1;33m,\u001b[0m \u001b[0mb\u001b[0m\u001b[1;33m,\u001b[0m \u001b[0mbuffer\u001b[0m\u001b[1;33m,\u001b[0m \u001b[0mcx\u001b[0m\u001b[1;33m,\u001b[0m \u001b[0mcy\u001b[0m\u001b[1;33m,\u001b[0m \u001b[0mtheta\u001b[0m\u001b[1;33m)\u001b[0m\u001b[1;33m\u001b[0m\u001b[1;33m\u001b[0m\u001b[0m\n\u001b[0m\u001b[0;32m     53\u001b[0m \u001b[1;33m\u001b[0m\u001b[0m\n\u001b[0;32m     54\u001b[0m \u001b[1;33m\u001b[0m\u001b[0m\n",
      "\u001b[1;31mUnboundLocalError\u001b[0m: local variable 'a' referenced before assignment"
     ]
    }
   ],
   "source": [
    "bbx_err_ellipse = Ellipse2D.byBBox(bbx_ellipse, 0.5)"
   ]
  },
  {
   "cell_type": "code",
   "execution_count": 72,
   "id": "1be9db72-8da1-48d4-a1ca-9910ba046b1e",
   "metadata": {},
   "outputs": [],
   "source": [
    "c = \"yoman\""
   ]
  },
  {
   "cell_type": "code",
   "execution_count": 73,
   "id": "5ffdcc58-b20a-4cad-b9fc-84a5842b80e4",
   "metadata": {},
   "outputs": [
    {
     "name": "stderr",
     "output_type": "stream",
     "text": [
      "C:\\Users\\lzrs0\\AppData\\Local\\Temp/ipykernel_23376/2574046525.py:1: UserWarning: You have been warned\n",
      "  warnings.warn(\"You have been warned\")\n"
     ]
    }
   ],
   "source": [
    "warnings.warn(\"You have been warned\")"
   ]
  },
  {
   "cell_type": "code",
   "execution_count": 76,
   "id": "c4b56984-f26e-479e-b178-dd8c4f33f637",
   "metadata": {},
   "outputs": [
    {
     "name": "stdout",
     "output_type": "stream",
     "text": [
      "Warning: Buffer already applied. Call Ignored.\n"
     ]
    }
   ],
   "source": [
    "bbx_ellipse.deBuff()"
   ]
  },
  {
   "cell_type": "code",
   "execution_count": 3,
   "id": "ec959724-a2b4-4c48-8eaa-6c15d7a7b8eb",
   "metadata": {},
   "outputs": [],
   "source": [
    "from collections.abc import MutableMapping\n",
    "\n",
    "\n",
    "class TwoWayDict(MutableMapping):\n",
    "    def __init__(self, data=()):\n",
    "        self.mapping = {}\n",
    "        self.update(data)\n",
    "    def __getitem__(self, key):\n",
    "        return self.mapping[key]\n",
    "    def __delitem__(self, key):\n",
    "        value = self[key]\n",
    "        del self.mapping[key]\n",
    "        self.pop(value, None)\n",
    "    def __setitem__(self, key, value):\n",
    "        if key in self:\n",
    "            del self[self[key]]\n",
    "        if value in self:\n",
    "            del self[value]\n",
    "        self.mapping[key] = value\n",
    "        self.mapping[value] = key\n",
    "    def __iter__(self):\n",
    "        return iter(self.mapping)\n",
    "    def __len__(self):\n",
    "        return len(self.mapping)\n",
    "    def __repr__(self):\n",
    "        return f\"{type(self).__name__}({self.mapping})\"\n"
   ]
  },
  {
   "cell_type": "code",
   "execution_count": 21,
   "id": "934b5005-a26a-4ae3-a596-3fd3954b9e49",
   "metadata": {},
   "outputs": [],
   "source": [
    "test = TwoWayDict({1:2, 3:4})"
   ]
  },
  {
   "cell_type": "code",
   "execution_count": 22,
   "id": "f837873a-18b4-43ba-9907-67207493e8a9",
   "metadata": {},
   "outputs": [
    {
     "data": {
      "text/plain": [
       "TwoWayDict({1: 2, 2: 1, 3: 4, 4: 3})"
      ]
     },
     "execution_count": 22,
     "metadata": {},
     "output_type": "execute_result"
    }
   ],
   "source": [
    "test"
   ]
  },
  {
   "cell_type": "code",
   "execution_count": 23,
   "id": "613a8744-99f6-4474-8f33-f23fca50f45d",
   "metadata": {},
   "outputs": [],
   "source": [
    "del test[2]"
   ]
  },
  {
   "cell_type": "code",
   "execution_count": 24,
   "id": "be2650d0-39fb-4702-ab0c-7e150dd7df16",
   "metadata": {},
   "outputs": [
    {
     "data": {
      "text/plain": [
       "TwoWayDict({3: 4, 4: 3})"
      ]
     },
     "execution_count": 24,
     "metadata": {},
     "output_type": "execute_result"
    }
   ],
   "source": [
    "test"
   ]
  },
  {
   "cell_type": "code",
   "execution_count": 26,
   "id": "f160441d-56be-4e46-bc87-8b6a7ddb179f",
   "metadata": {},
   "outputs": [
    {
     "ename": "AttributeError",
     "evalue": "'TwoWayDict' object has no attribute 'super'",
     "output_type": "error",
     "traceback": [
      "\u001b[1;31m---------------------------------------------------------------------------\u001b[0m",
      "\u001b[1;31mAttributeError\u001b[0m                            Traceback (most recent call last)",
      "\u001b[1;32m~\\AppData\\Local\\Temp/ipykernel_18580/1801747318.py\u001b[0m in \u001b[0;36m<module>\u001b[1;34m\u001b[0m\n\u001b[1;32m----> 1\u001b[1;33m \u001b[0mtype\u001b[0m\u001b[1;33m(\u001b[0m\u001b[0mtest\u001b[0m\u001b[1;33m.\u001b[0m\u001b[0msuper\u001b[0m\u001b[1;33m(\u001b[0m\u001b[1;33m)\u001b[0m\u001b[1;33m)\u001b[0m\u001b[1;33m\u001b[0m\u001b[1;33m\u001b[0m\u001b[0m\n\u001b[0m",
      "\u001b[1;31mAttributeError\u001b[0m: 'TwoWayDict' object has no attribute 'super'"
     ]
    }
   ],
   "source": [
    "type(test.super())"
   ]
  },
  {
   "cell_type": "code",
   "execution_count": 32,
   "id": "a101b6ab-8fe2-4a98-9fe8-28d1689ff8d5",
   "metadata": {},
   "outputs": [
    {
     "data": {
      "text/plain": [
       "(__main__.TwoWayDict,\n",
       " collections.abc.MutableMapping,\n",
       " collections.abc.Mapping,\n",
       " collections.abc.Collection,\n",
       " collections.abc.Sized,\n",
       " collections.abc.Iterable,\n",
       " collections.abc.Container,\n",
       " object)"
      ]
     },
     "execution_count": 32,
     "metadata": {},
     "output_type": "execute_result"
    }
   ],
   "source": [
    "test.__class__.__mro__"
   ]
  },
  {
   "cell_type": "code",
   "execution_count": 36,
   "id": "f02ec2a0-acff-44f1-9612-935e2e0561a3",
   "metadata": {},
   "outputs": [],
   "source": [
    "#!/bin/python3\n",
    "\"\"\"\n",
    "\n",
    "The Obstacle classes containing the neccessary gradients and hessian functions for\n",
    "seamless integration with optimal solvers, includes several utility objects like \n",
    "the obstacle list for use in real time simulation.\n",
    "\n",
    "author: Neelaksh Singh\n",
    "\n",
    "\"\"\"\n",
    "\n",
    "# Identity Objects\n",
    "DICT_EMPTY_UPDATE = ()\n",
    "\n",
    "# Object Selectors for utility\n",
    "ELLIPSE2D = 0\n",
    "\n",
    "class Obstacle2DBase():\n",
    "    \"\"\"\n",
    "    The base class each 2D obstacle class will inherit from. Created to enforce specific\n",
    "    validation checks in the obstacle list objects and creating the neccessary interface\n",
    "    for all 2D obstacle CBF classes.\n",
    "    \"\"\"\n",
    "    def __init__(self):\n",
    "        pass\n",
    "\n",
    "    def evaluate(self, p):\n",
    "        if not isinstance(p, Vector2):\n",
    "            raise ValueError(\"Expected an object of type euclid.Vector2 for arg p, but got \" + type(p).__name__ + \".\")\n",
    "\n",
    "    def gradient(self, p):\n",
    "        if not isinstance(p, Vector2):\n",
    "            raise ValueError(\"Expected an object of type euclid.Vector2 for arg p, but got \" + type(p).__name__ + \".\")\n",
    "        return matrix(0.0, (3,1))\n",
    "\n",
    "    def f(self, p):\n",
    "        if not isinstance(p, Vector2):\n",
    "            raise ValueError(\"Expected an object of type euclid.Vector2 for arg p, but got \" + type(p).__name__ + \".\")\n",
    "        return 0\n",
    "    \n",
    "    def dx(self, p):\n",
    "        if not isinstance(p, Vector2):\n",
    "            raise ValueError(\"Expected an object of type euclid.Vector2 for arg p, but got \" + type(p).__name__ + \".\")\n",
    "        return 0\n",
    "    \n",
    "    def dy(self, p):\n",
    "        if not isinstance(p, Vector2):\n",
    "            raise ValueError(\"Expected an object of type euclid.Vector2 for arg p, but got \" + type(p).__name__ + \".\")\n",
    "        return 0\n",
    "\n",
    "    def dtheta(self, p):\n",
    "        if not isinstance(p, Vector2):\n",
    "            raise ValueError(\"Expected an object of type euclid.Vector2 for arg p, but got \" + type(p).__name__ + \".\")\n",
    "        return 0\n",
    "\n",
    "    def update(self):\n",
    "        pass\n",
    "\n",
    "    def updateCoords(self, xy):\n",
    "        if not isinstance(xy, Vector2):\n",
    "            raise ValueError(\"Expected an object of type euclid.Vector2 for arg p, but got \" + type(xy).__name__ + \".\")\n",
    "        pass\n",
    "\n",
    "    def updateOrientation(self):\n",
    "        pass\n",
    "\n",
    "class Ellipse2D(Obstacle2DBase):\n",
    "    def __init__(self, a, b, center = Vector2(0, 0), theta=0, buffer=0):\n",
    "        \"\"\"\n",
    "        Generates the 2D Ellipse obstacle representation for use in control barrier functions.\n",
    "        Exposes the required functionality for direct usage in CBF as a barrier constraint.\n",
    "\n",
    "        \"\"\"\n",
    "        if not isinstance(center, Vector2):\n",
    "            raise ValueError(\"Expected an object of type euclid.Vector2 for arg center, but got \" + type(center).__name__ + \".\")\n",
    "        self.center = center\n",
    "        self.theta = theta\n",
    "        self.a = a + buffer\n",
    "        self.b = b + buffer\n",
    "        self.buffer = buffer\n",
    "        self.BUFFER_FLAG = True\n",
    "    \n",
    "    def applyBuffer(self):\n",
    "        if not self.BUFFER_FLAG:\n",
    "            self.a = self.a + self.buffer\n",
    "            self.b = self.b + self.buffer\n",
    "            self.BUFFER_FLAG = True\n",
    "        else:\n",
    "            warnings.warn(\"Warning: Buffer already applied. Call Ignored.\")\n",
    "        \n",
    "    def removeBuffer(self):\n",
    "        if self.BUFFER_FLAG:\n",
    "            self.a = self.a - self.buffer\n",
    "            self.b = self.b - self.buffer\n",
    "            self.BUFFER_FLAG = False\n",
    "        else:\n",
    "            warnings.warn(\"Warning: Buffer already removed. Call Ignored.\")\n",
    "    \n",
    "    def evaluate(self, p):\n",
    "        \"\"\"\n",
    "        Evaluate the value of the ellipse at a given point.\n",
    "        \"\"\"\n",
    "        super().evaluate(p)\n",
    "        dx = p.x - self.center.x\n",
    "        dy = p.y - self.center.y\n",
    "        ct = np.cos(self.theta)\n",
    "        st = np.sin(self.theta)\n",
    "\n",
    "        eval = ( ( dx * ct + dy * st )/self.a )**2 + ( ( -dx * st + dy * ct )/self.b )**2 - 1\n",
    "        return eval\n",
    "\n",
    "    def gradient(self, p):\n",
    "        super().gradient(p)\n",
    "        return matrix([self.dx(p), self.dy(p), self.dtheta(p)])\n",
    "\n",
    "    # f = evaluate\n",
    "        \n",
    "    def f(self, p):\n",
    "        \"\"\"\n",
    "        Alias of the evaluate function, semantically significant for cvxopt.\n",
    "        \"\"\"\n",
    "        return self.evaluate(p)\n",
    "    \n",
    "    def dx(self, p):\n",
    "        super().dx(p)\n",
    "        xd = p.x - self.center.x\n",
    "        yd = p.y - self.center.y\n",
    "        ct = np.cos(self.theta)\n",
    "        st = np.sin(self.theta)\n",
    "\n",
    "        dx_ = (2 * ct/(self.a**2)) * ( xd * ct + yd * st ) + (-2 * st/(self.b**2)) * ( -xd * st + yd * ct )\n",
    "        return dx_\n",
    "    \n",
    "    def dy(self, p):\n",
    "        super().dy(p)\n",
    "        xd = p.x - self.center.x\n",
    "        yd = p.y - self.center.y\n",
    "        ct = np.cos(self.theta)\n",
    "        st = np.sin(self.theta)\n",
    "\n",
    "        dy_ = (2 * st/(self.a**2)) * ( xd * ct + yd * st ) + (2 * ct/(self.b**2)) * ( -xd * st + yd * ct )\n",
    "        return dy_\n",
    "    \n",
    "    def update(self, a=None, b=None, center=None, theta=None, buffer=None):\n",
    "        if a is not None:\n",
    "            self.a = a\n",
    "        if b is not None:\n",
    "            self.b = b\n",
    "        if center is not None:\n",
    "            if not isinstance(center, Vector2):\n",
    "                raise ValueError(\"Expected an object of type euclid.Vector2 for arg center.\")\n",
    "            self.center = center\n",
    "        if theta is not None:\n",
    "            self.theta = theta\n",
    "        if buffer is not None:\n",
    "            if self.BUFFER_FLAG:\n",
    "                self.a = self.a - self.buffer + buffer\n",
    "                self.b = self.b - self.buffer + buffer\n",
    "                self.buffer = buffer\n",
    "            else:\n",
    "                self.buffer = buffer\n",
    "    \n",
    "    def updateCoords(self, xy):\n",
    "        super().updateCoords(xy)\n",
    "        self.center = xy\n",
    "\n",
    "    def updateOrientation(self, yaw):\n",
    "        self.theta = yaw\n",
    "\n",
    "    def updateByBoundingBox(self, BBox):\n",
    "        a = BBox.extent.x\n",
    "        b = BBox.extent.y\n",
    "        center = Vector2(BBox.location.x, BBox.location.y)\n",
    "        theta = BBox.rotation.yaw\n",
    "        self.update(a=a, b=b, center=center, theta=theta)\n",
    "\n",
    "    def dtheta(self, p):\n",
    "        \"\"\"\n",
    "        Despite being zero. This function is still created for the sake of completeness w.r.t API.\n",
    "        \"\"\"\n",
    "        return super().dtheta(p)\n",
    "\n",
    "    def __repr__(self):\n",
    "        return f\"{type(self).__name__}(a = {self.a},\\n b = {self.b},\\n center = {self.center},\\n theta = {self.theta},\\n buffer = {self.buffer}, \\n buffer applied: {self.BUFFER_FLAG} )\"\n",
    "    \n",
    "    @classmethod\n",
    "    def fromBoundingBox(cls, BBox, buffer = 0.5):\n",
    "        if not isinstance(BBox, carla.BoundingBox):\n",
    "            raise ValueError(\"Expected an object of type carla.BoundingBox as an input to fromCarlaBoundingBox() method, but got \", type(BBox).__name__)\n",
    "        \n",
    "        a = BBox.extent.x\n",
    "        b = BBox.extent.y\n",
    "        center = Vector2(BBox.location.x, BBox.location.y)\n",
    "        theta = BBox.rotation.yaw\n",
    "        return cls(a, b, center, theta, buffer)"
   ]
  },
  {
   "cell_type": "code",
   "execution_count": 2,
   "id": "77ebff51-866e-47b9-8341-f07ca0edbd12",
   "metadata": {},
   "outputs": [],
   "source": [
    "ellipse2d1 = Ellipse2D(2,3)\n",
    "ellipse2d2 = Ellipse2D(3,4)"
   ]
  },
  {
   "cell_type": "code",
   "execution_count": 3,
   "id": "71ccba31-12a9-4b52-a8af-34704c0f2383",
   "metadata": {},
   "outputs": [],
   "source": [
    "obs2dlist = ObstacleList2D({\"id1\":ellipse2d1, \"id2\":ellipse2d2})"
   ]
  },
  {
   "cell_type": "code",
   "execution_count": 4,
   "id": "ab021658-8362-4eda-a60f-d49f65de8ef3",
   "metadata": {},
   "outputs": [
    {
     "data": {
      "text/plain": [
       "ObstacleList2D({'id1': Ellipse2D(a = 2, b = 3, center = Vector2(0.00, 0.00), theta = 0, buffer = 0, buffer applied: True )\n",
       ", 'id2': Ellipse2D(a = 3, b = 4, center = Vector2(0.00, 0.00), theta = 0, buffer = 0, buffer applied: True )\n",
       "})"
      ]
     },
     "execution_count": 4,
     "metadata": {},
     "output_type": "execute_result"
    }
   ],
   "source": [
    "obs2dlist"
   ]
  },
  {
   "cell_type": "code",
   "execution_count": 62,
   "id": "2144c1ac-1fc7-4aee-a688-33614011524b",
   "metadata": {},
   "outputs": [],
   "source": [
    "p = Vector2(2,0)"
   ]
  },
  {
   "cell_type": "code",
   "execution_count": 63,
   "id": "5e358c39-e258-4b06-b995-36ea3731aea2",
   "metadata": {},
   "outputs": [
    {
     "name": "stdout",
     "output_type": "stream",
     "text": [
      "[ 0.00e+00]\n",
      "[-5.56e-01]\n",
      "\n"
     ]
    }
   ],
   "source": [
    "print(obs2dlist.f(p))"
   ]
  },
  {
   "cell_type": "code",
   "execution_count": 5,
   "id": "5ac0053a-4c7e-47ff-a669-b96a3b0bdea9",
   "metadata": {},
   "outputs": [],
   "source": [
    "ellipse2d3 = Ellipse2D(5,5)"
   ]
  },
  {
   "cell_type": "code",
   "execution_count": 7,
   "id": "03142038-31c0-4508-8e8b-e39abff6dbb3",
   "metadata": {},
   "outputs": [],
   "source": [
    "obs2dlist.update(id3 = ellipse2d3)"
   ]
  },
  {
   "cell_type": "code",
   "execution_count": 8,
   "id": "7db3484e-ab59-4ea9-85f0-1371383717ec",
   "metadata": {},
   "outputs": [
    {
     "data": {
      "text/plain": [
       "ObstacleList2D({'id1': Ellipse2D(a = 2, b = 3, center = Vector2(0.00, 0.00), theta = 0, buffer = 0, buffer applied: True )\n",
       ", 'id2': Ellipse2D(a = 3, b = 4, center = Vector2(0.00, 0.00), theta = 0, buffer = 0, buffer applied: True )\n",
       ", 'id3': Ellipse2D(a = 5, b = 5, center = Vector2(0.00, 0.00), theta = 0, buffer = 0, buffer applied: True )\n",
       "})"
      ]
     },
     "execution_count": 8,
     "metadata": {},
     "output_type": "execute_result"
    }
   ],
   "source": [
    "obs2dlist"
   ]
  },
  {
   "cell_type": "code",
   "execution_count": 11,
   "id": "c2042f31-38f9-491a-a66f-ff3f31a337bf",
   "metadata": {},
   "outputs": [],
   "source": [
    "obs2dlist['id4'] = ellipse2d3"
   ]
  },
  {
   "cell_type": "code",
   "execution_count": 12,
   "id": "5d3c9155-1a06-43ca-b202-6204dde104de",
   "metadata": {},
   "outputs": [
    {
     "data": {
      "text/plain": [
       "ObstacleList2D({'id1': Ellipse2D(a = 2, b = 3, center = Vector2(0.00, 0.00), theta = 0, buffer = 0, buffer applied: True )\n",
       ", 'id2': Ellipse2D(a = 3, b = 4, center = Vector2(0.00, 0.00), theta = 0, buffer = 0, buffer applied: True )\n",
       ", 'id3': Ellipse2D(a = 5, b = 5, center = Vector2(0.00, 0.00), theta = 0, buffer = 0, buffer applied: True )\n",
       ", 'id4': Ellipse2D(a = 5, b = 5, center = Vector2(0.00, 0.00), theta = 0, buffer = 0, buffer applied: True )\n",
       "})"
      ]
     },
     "execution_count": 12,
     "metadata": {},
     "output_type": "execute_result"
    }
   ],
   "source": [
    "obs2dlist"
   ]
  },
  {
   "cell_type": "code",
   "execution_count": 14,
   "id": "376458a8-2416-4859-8a4e-43cc73af0865",
   "metadata": {},
   "outputs": [],
   "source": [
    "obs2dlist['id4'].update(a=5, b=6)"
   ]
  },
  {
   "cell_type": "code",
   "execution_count": 15,
   "id": "9f05c5d2-356c-4134-8a2a-47392afdd278",
   "metadata": {},
   "outputs": [
    {
     "data": {
      "text/plain": [
       "ObstacleList2D({'id1': Ellipse2D(a = 2, b = 3, center = Vector2(0.00, 0.00), theta = 0, buffer = 0, buffer applied: True )\n",
       ", 'id2': Ellipse2D(a = 3, b = 4, center = Vector2(0.00, 0.00), theta = 0, buffer = 0, buffer applied: True )\n",
       ", 'id3': Ellipse2D(a = 5, b = 6, center = Vector2(0.00, 0.00), theta = 0, buffer = 0, buffer applied: True )\n",
       ", 'id4': Ellipse2D(a = 5, b = 6, center = Vector2(0.00, 0.00), theta = 0, buffer = 0, buffer applied: True )\n",
       "})"
      ]
     },
     "execution_count": 15,
     "metadata": {},
     "output_type": "execute_result"
    }
   ],
   "source": [
    "obs2dlist"
   ]
  },
  {
   "cell_type": "code",
   "execution_count": null,
   "id": "ab286fe5-ec8a-41c0-93e3-d37e2d0669ef",
   "metadata": {},
   "outputs": [],
   "source": []
  }
 ],
 "metadata": {
  "kernelspec": {
   "display_name": "Python 3 (ipykernel)",
   "language": "python",
   "name": "python3"
  },
  "language_info": {
   "codemirror_mode": {
    "name": "ipython",
    "version": 3
   },
   "file_extension": ".py",
   "mimetype": "text/x-python",
   "name": "python",
   "nbconvert_exporter": "python",
   "pygments_lexer": "ipython3",
   "version": "3.9.6"
  }
 },
 "nbformat": 4,
 "nbformat_minor": 5
}
