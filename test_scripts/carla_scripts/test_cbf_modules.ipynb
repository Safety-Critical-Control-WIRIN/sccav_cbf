{
 "cells": [
  {
   "cell_type": "code",
   "execution_count": 4,
   "id": "728e5ba3-598e-41b0-ba9a-1dc024d4e00f",
   "metadata": {},
   "outputs": [],
   "source": [
    "import numpy as np\n",
    "import warnings\n",
    "import inspect\n",
    "from euclid import *\n",
    "# import carla\n",
    "\n",
    "from collections.abc import MutableMapping\n",
    "from cvxopt import matrix\n",
    "import sys\n",
    "import os\n",
    "\n",
    "sys.path.append(os.path.dirname(os.path.abspath('')) +\n",
    "                \"../../\")\n",
    "\n",
    "try:\n",
    "    from cbf.obstacles import Ellipse2D, ObstacleList2D, Obstacle2DBase, BoundingBox\n",
    "    from cbf.geometry import Rotation\n",
    "except:\n",
    "    raise\n"
   ]
  },
  {
   "cell_type": "code",
   "execution_count": 4,
   "id": "77ebff51-866e-47b9-8341-f07ca0edbd12",
   "metadata": {},
   "outputs": [],
   "source": [
    "ellipse2d1 = Ellipse2D(2,3)\n",
    "ellipse2d2 = Ellipse2D(3,4)"
   ]
  },
  {
   "cell_type": "code",
   "execution_count": 5,
   "id": "71ccba31-12a9-4b52-a8af-34704c0f2383",
   "metadata": {},
   "outputs": [],
   "source": [
    "obs2dlist = ObstacleList2D({\"id1\":ellipse2d1, \"id2\":ellipse2d2})"
   ]
  },
  {
   "cell_type": "code",
   "execution_count": 6,
   "id": "ab021658-8362-4eda-a60f-d49f65de8ef3",
   "metadata": {},
   "outputs": [
    {
     "data": {
      "text/plain": [
       "ObstacleList2D({'id1': Ellipse2D(a = 2, b = 3, center = Vector2(0.00, 0.00), theta = 0, buffer = 0, buffer_applied: True )\n",
       ", 'id2': Ellipse2D(a = 3, b = 4, center = Vector2(0.00, 0.00), theta = 0, buffer = 0, buffer_applied: True )\n",
       "})"
      ]
     },
     "execution_count": 6,
     "metadata": {},
     "output_type": "execute_result"
    }
   ],
   "source": [
    "obs2dlist"
   ]
  },
  {
   "cell_type": "code",
   "execution_count": 7,
   "id": "2144c1ac-1fc7-4aee-a688-33614011524b",
   "metadata": {},
   "outputs": [],
   "source": [
    "p = Vector2(2,0)"
   ]
  },
  {
   "cell_type": "code",
   "execution_count": 8,
   "id": "5e358c39-e258-4b06-b995-36ea3731aea2",
   "metadata": {},
   "outputs": [
    {
     "name": "stdout",
     "output_type": "stream",
     "text": [
      "[ 0.00e+00]\n",
      "[-5.56e-01]\n",
      "\n"
     ]
    }
   ],
   "source": [
    "print(obs2dlist.f(p))"
   ]
  },
  {
   "cell_type": "code",
   "execution_count": 9,
   "id": "5ac0053a-4c7e-47ff-a669-b96a3b0bdea9",
   "metadata": {},
   "outputs": [],
   "source": [
    "ellipse2d3 = Ellipse2D(5,5)"
   ]
  },
  {
   "cell_type": "code",
   "execution_count": 10,
   "id": "03142038-31c0-4508-8e8b-e39abff6dbb3",
   "metadata": {},
   "outputs": [],
   "source": [
    "obs2dlist.update(id3 = ellipse2d3)"
   ]
  },
  {
   "cell_type": "code",
   "execution_count": 11,
   "id": "7db3484e-ab59-4ea9-85f0-1371383717ec",
   "metadata": {},
   "outputs": [
    {
     "data": {
      "text/plain": [
       "ObstacleList2D({'id1': Ellipse2D(a = 2, b = 3, center = Vector2(0.00, 0.00), theta = 0, buffer = 0, buffer_applied: True )\n",
       ", 'id2': Ellipse2D(a = 3, b = 4, center = Vector2(0.00, 0.00), theta = 0, buffer = 0, buffer_applied: True )\n",
       ", 'id3': Ellipse2D(a = 5, b = 5, center = Vector2(0.00, 0.00), theta = 0, buffer = 0, buffer_applied: True )\n",
       "})"
      ]
     },
     "execution_count": 11,
     "metadata": {},
     "output_type": "execute_result"
    }
   ],
   "source": [
    "obs2dlist"
   ]
  },
  {
   "cell_type": "code",
   "execution_count": 12,
   "id": "c2042f31-38f9-491a-a66f-ff3f31a337bf",
   "metadata": {},
   "outputs": [],
   "source": [
    "obs2dlist['id4'] = ellipse2d3"
   ]
  },
  {
   "cell_type": "code",
   "execution_count": 13,
   "id": "5d3c9155-1a06-43ca-b202-6204dde104de",
   "metadata": {},
   "outputs": [
    {
     "data": {
      "text/plain": [
       "ObstacleList2D({'id1': Ellipse2D(a = 2, b = 3, center = Vector2(0.00, 0.00), theta = 0, buffer = 0, buffer_applied: True )\n",
       ", 'id2': Ellipse2D(a = 3, b = 4, center = Vector2(0.00, 0.00), theta = 0, buffer = 0, buffer_applied: True )\n",
       ", 'id3': Ellipse2D(a = 5, b = 5, center = Vector2(0.00, 0.00), theta = 0, buffer = 0, buffer_applied: True )\n",
       ", 'id4': Ellipse2D(a = 5, b = 5, center = Vector2(0.00, 0.00), theta = 0, buffer = 0, buffer_applied: True )\n",
       "})"
      ]
     },
     "execution_count": 13,
     "metadata": {},
     "output_type": "execute_result"
    }
   ],
   "source": [
    "obs2dlist"
   ]
  },
  {
   "cell_type": "code",
   "execution_count": 14,
   "id": "376458a8-2416-4859-8a4e-43cc73af0865",
   "metadata": {},
   "outputs": [],
   "source": [
    "obs2dlist['id4'].update(a=5, b=6)"
   ]
  },
  {
   "cell_type": "code",
   "execution_count": 15,
   "id": "9f05c5d2-356c-4134-8a2a-47392afdd278",
   "metadata": {},
   "outputs": [
    {
     "data": {
      "text/plain": [
       "ObstacleList2D({'id1': Ellipse2D(a = 2, b = 3, center = Vector2(0.00, 0.00), theta = 0, buffer = 0, buffer_applied: True )\n",
       ", 'id2': Ellipse2D(a = 3, b = 4, center = Vector2(0.00, 0.00), theta = 0, buffer = 0, buffer_applied: True )\n",
       ", 'id3': Ellipse2D(a = 5, b = 6, center = Vector2(0.00, 0.00), theta = 0, buffer = 0, buffer_applied: True )\n",
       ", 'id4': Ellipse2D(a = 5, b = 6, center = Vector2(0.00, 0.00), theta = 0, buffer = 0, buffer_applied: True )\n",
       "})"
      ]
     },
     "execution_count": 15,
     "metadata": {},
     "output_type": "execute_result"
    }
   ],
   "source": [
    "obs2dlist"
   ]
  },
  {
   "cell_type": "code",
   "execution_count": 28,
   "id": "ab286fe5-ec8a-41c0-93e3-d37e2d0669ef",
   "metadata": {},
   "outputs": [],
   "source": [
    "def test_func(*args):\n",
    "    for arg in args:\n",
    "        print(arg)\n",
    "    return args"
   ]
  },
  {
   "cell_type": "code",
   "execution_count": 29,
   "id": "f69f433a-84b7-4997-82ad-e353be3512c0",
   "metadata": {},
   "outputs": [
    {
     "name": "stdout",
     "output_type": "stream",
     "text": [
      "1\n",
      "2\n",
      "3\n",
      "45\n",
      "hey\n"
     ]
    }
   ],
   "source": [
    "a, b, c, d, e = test_func(1,2,3,45, 'hey')"
   ]
  },
  {
   "cell_type": "code",
   "execution_count": 32,
   "id": "4ba92743-e68a-4d5e-ab3d-fce0bc26c62a",
   "metadata": {},
   "outputs": [],
   "source": [
    "a = Point3()"
   ]
  },
  {
   "cell_type": "code",
   "execution_count": 33,
   "id": "2698d1e0-0437-4728-bbb1-fea15fcd832a",
   "metadata": {},
   "outputs": [
    {
     "data": {
      "text/plain": [
       "Point3(0.00, 0.00, 0.00)"
      ]
     },
     "execution_count": 33,
     "metadata": {},
     "output_type": "execute_result"
    }
   ],
   "source": [
    "a"
   ]
  },
  {
   "cell_type": "code",
   "execution_count": 40,
   "id": "6f5db157-636d-4c6a-af31-1a697a5a6c0b",
   "metadata": {},
   "outputs": [
    {
     "data": {
      "text/plain": [
       "True"
      ]
     },
     "execution_count": 40,
     "metadata": {},
     "output_type": "execute_result"
    }
   ],
   "source": [
    "isinstance(ellipse2d1, Ellipse2D)"
   ]
  },
  {
   "cell_type": "code",
   "execution_count": 41,
   "id": "791abe5d-141b-4649-850e-f2a0a4347917",
   "metadata": {},
   "outputs": [],
   "source": [
    "class Shape:\n",
    "    pass\n",
    "\n",
    "class Rectangle(Shape):\n",
    "    def __init__(self, length, width):\n",
    "        self.length = length\n",
    "        self.width = width\n",
    "        self.area = length * width\n",
    "    \n",
    "    def get_area(self):\n",
    "        return self.length * self.width\n",
    "        \n",
    "class Square(Rectangle):\n",
    "    def __init__(self,length):\n",
    "        Rectangle.__init__(self,length,length)"
   ]
  },
  {
   "cell_type": "code",
   "execution_count": 42,
   "id": "33f00515-62af-4cec-b2cc-08dd84e87e26",
   "metadata": {},
   "outputs": [],
   "source": [
    "test_sq = Square(2)"
   ]
  },
  {
   "cell_type": "code",
   "execution_count": 45,
   "id": "8fa6a8da-6c69-48a6-9a63-3dbbcbe6bd4c",
   "metadata": {},
   "outputs": [
    {
     "data": {
      "text/plain": [
       "True"
      ]
     },
     "execution_count": 45,
     "metadata": {},
     "output_type": "execute_result"
    }
   ],
   "source": [
    "isinstance(test_sq, Square)"
   ]
  },
  {
   "cell_type": "code",
   "execution_count": 46,
   "id": "c386ec71-5ff4-43c1-ac80-bdf3ffcd57a2",
   "metadata": {},
   "outputs": [],
   "source": [
    "test_rq = Rectangle(2,3)"
   ]
  },
  {
   "cell_type": "code",
   "execution_count": 47,
   "id": "aa1fd228-9558-4610-9b12-1815403ad48e",
   "metadata": {},
   "outputs": [
    {
     "data": {
      "text/plain": [
       "True"
      ]
     },
     "execution_count": 47,
     "metadata": {},
     "output_type": "execute_result"
    }
   ],
   "source": [
    "isinstance(test_rq, Shape)"
   ]
  },
  {
   "cell_type": "code",
   "execution_count": 48,
   "id": "c0071072-08f4-45ac-b1db-8c9b9d9cc13f",
   "metadata": {},
   "outputs": [
    {
     "data": {
      "text/plain": [
       "False"
      ]
     },
     "execution_count": 48,
     "metadata": {},
     "output_type": "execute_result"
    }
   ],
   "source": [
    "isinstance(test_rq, Square)"
   ]
  },
  {
   "cell_type": "code",
   "execution_count": 5,
   "id": "31890ac2-99ed-4a29-8f20-43b74db26dd6",
   "metadata": {},
   "outputs": [],
   "source": [
    "bbox1 = BoundingBox(extent=Vector3(1,1,1), location=Vector3(4,5,2), rotation=Rotation(0, 0, np.pi))\n",
    "bbox2 = BoundingBox(extent=Vector3(1,1.5,1.5), location=Vector3(5,3,2.5), rotation=Rotation(0, 0, np.pi))"
   ]
  },
  {
   "cell_type": "code",
   "execution_count": 6,
   "id": "f6be85c9-387c-4383-a07a-db05219db220",
   "metadata": {},
   "outputs": [],
   "source": [
    "bbox_dict = {\n",
    "    'id1':bbox1,\n",
    "    'id2':bbox2\n",
    "}"
   ]
  },
  {
   "cell_type": "code",
   "execution_count": 8,
   "id": "152373de-462d-40de-ad11-7a264d6861f0",
   "metadata": {},
   "outputs": [],
   "source": [
    "obs_list = ObstacleList2D()"
   ]
  },
  {
   "cell_type": "code",
   "execution_count": 9,
   "id": "93e70a20-eddc-46b2-9498-d035283d66d2",
   "metadata": {},
   "outputs": [],
   "source": [
    "obs_list.update_by_bounding_box(bbox_dict=bbox_dict)"
   ]
  },
  {
   "cell_type": "code",
   "execution_count": 10,
   "id": "76a52135-52d0-4079-8fb1-0ff95649050c",
   "metadata": {},
   "outputs": [
    {
     "data": {
      "text/plain": [
       "ObstacleList2D({'id1': Ellipse2D(a = 1.5, b = 1.5, center = Vector2(4.00, 5.00), theta = 3.141592653589793, buffer = 0.5, buffer_applied: True )\n",
       ", 'id2': Ellipse2D(a = 1.5, b = 2.0, center = Vector2(5.00, 3.00), theta = 3.141592653589793, buffer = 0.5, buffer_applied: True )\n",
       "})"
      ]
     },
     "execution_count": 10,
     "metadata": {},
     "output_type": "execute_result"
    }
   ],
   "source": [
    "obs_list"
   ]
  },
  {
   "cell_type": "code",
   "execution_count": 12,
   "id": "d7704b90-f932-4068-ba48-78366ddd5308",
   "metadata": {},
   "outputs": [],
   "source": [
    "bbox2 = BoundingBox(extent=Vector3(1,1.5,1.5), location=Vector3(6,6,2.5), rotation=Rotation(0, 0, np.pi/2))\n",
    "bbox_dict.update({'id2':bbox2})"
   ]
  },
  {
   "cell_type": "code",
   "execution_count": 13,
   "id": "29950cb5-5266-439f-b209-0c7e6abe8944",
   "metadata": {},
   "outputs": [],
   "source": [
    "obs_list.update_by_bounding_box(bbox_dict=bbox_dict)"
   ]
  },
  {
   "cell_type": "code",
   "execution_count": 14,
   "id": "ed3d04b1-44f8-4506-ac42-056e9bdddf42",
   "metadata": {},
   "outputs": [
    {
     "data": {
      "text/plain": [
       "ObstacleList2D({'id1': Ellipse2D(a = 1, b = 1, center = Vector2(4.00, 5.00), theta = 3.141592653589793, buffer = 0.5, buffer_applied: True )\n",
       ", 'id2': Ellipse2D(a = 1, b = 1.5, center = Vector2(6.00, 6.00), theta = 1.5707963267948966, buffer = 0.5, buffer_applied: True )\n",
       "})"
      ]
     },
     "execution_count": 14,
     "metadata": {},
     "output_type": "execute_result"
    }
   ],
   "source": [
    "obs_list"
   ]
  },
  {
   "cell_type": "code",
   "execution_count": null,
   "id": "e7ac6a64-d975-44b6-9173-f6994af6fd65",
   "metadata": {},
   "outputs": [],
   "source": []
  }
 ],
 "metadata": {
  "kernelspec": {
   "display_name": "Python 3 (ipykernel)",
   "language": "python",
   "name": "python3"
  },
  "language_info": {
   "codemirror_mode": {
    "name": "ipython",
    "version": 3
   },
   "file_extension": ".py",
   "mimetype": "text/x-python",
   "name": "python",
   "nbconvert_exporter": "python",
   "pygments_lexer": "ipython3",
   "version": "3.9.6"
  }
 },
 "nbformat": 4,
 "nbformat_minor": 5
}
